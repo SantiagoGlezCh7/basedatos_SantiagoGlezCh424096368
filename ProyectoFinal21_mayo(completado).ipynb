{
  "nbformat": 4,
  "nbformat_minor": 0,
  "metadata": {
    "colab": {
      "provenance": [],
      "gpuType": "V28",
      "authorship_tag": "ABX9TyP+KKhrGKLTWLi1t6lFv4RU",
      "include_colab_link": true
    },
    "kernelspec": {
      "name": "python3",
      "display_name": "Python 3"
    },
    "language_info": {
      "name": "python"
    },
    "accelerator": "TPU"
  },
  "cells": [
    {
      "cell_type": "markdown",
      "metadata": {
        "id": "view-in-github",
        "colab_type": "text"
      },
      "source": [
        "<a href=\"https://colab.research.google.com/github/SantiagoGlezCh7/basedatos_SantiagoGlezCh424096368/blob/Proyectos/ProyectoFinal21_mayo(completado).ipynb\" target=\"_parent\"><img src=\"https://colab.research.google.com/assets/colab-badge.svg\" alt=\"Open In Colab\"/></a>"
      ]
    },
    {
      "cell_type": "code",
      "execution_count": null,
      "metadata": {
        "id": "dcDBUo62wPp5",
        "colab": {
          "base_uri": "https://localhost:8080/"
        },
        "collapsed": true,
        "outputId": "ffa823ee-180c-47df-fefa-872d0df55f7d"
      },
      "outputs": [
        {
          "output_type": "stream",
          "name": "stdout",
          "text": [
            "Collecting faker\n",
            "  Downloading faker-37.3.0-py3-none-any.whl.metadata (15 kB)\n",
            "Requirement already satisfied: tzdata in /usr/local/lib/python3.11/dist-packages (from faker) (2025.2)\n",
            "Downloading faker-37.3.0-py3-none-any.whl (1.9 MB)\n",
            "\u001b[2K   \u001b[90m━━━━━━━━━━━━━━━━━━━━━━━━━━━━━━━━━━━━━━━━\u001b[0m \u001b[32m1.9/1.9 MB\u001b[0m \u001b[31m22.0 MB/s\u001b[0m eta \u001b[36m0:00:00\u001b[0m\n",
            "\u001b[?25hInstalling collected packages: faker\n",
            "Successfully installed faker-37.3.0\n",
            "Requirement already satisfied: pandas in /usr/local/lib/python3.11/dist-packages (2.2.2)\n",
            "Requirement already satisfied: numpy>=1.23.2 in /usr/local/lib/python3.11/dist-packages (from pandas) (2.0.2)\n",
            "Requirement already satisfied: python-dateutil>=2.8.2 in /usr/local/lib/python3.11/dist-packages (from pandas) (2.9.0.post0)\n",
            "Requirement already satisfied: pytz>=2020.1 in /usr/local/lib/python3.11/dist-packages (from pandas) (2025.2)\n",
            "Requirement already satisfied: tzdata>=2022.7 in /usr/local/lib/python3.11/dist-packages (from pandas) (2025.2)\n",
            "Requirement already satisfied: six>=1.5 in /usr/local/lib/python3.11/dist-packages (from python-dateutil>=2.8.2->pandas) (1.17.0)\n",
            "Requirement already satisfied: numpy in /usr/local/lib/python3.11/dist-packages (2.0.2)\n"
          ]
        }
      ],
      "source": [
        "!pip install faker\n",
        "\n",
        "!pip install pandas\n",
        "!pip install numpy"
      ]
    },
    {
      "cell_type": "code",
      "source": [
        "import pandas as pd\n",
        "import numpy as np\n",
        "from faker import Faker\n",
        "import random\n",
        "import os\n",
        "from datetime import datetime, timedelta"
      ],
      "metadata": {
        "id": "wjXJVenrw88E"
      },
      "execution_count": 46,
      "outputs": []
    },
    {
      "cell_type": "markdown",
      "source": [
        "# ***CAPA BRONCE DATOS CRUDOS ***"
      ],
      "metadata": {
        "id": "_eB0pp_SIbsg"
      }
    },
    {
      "cell_type": "code",
      "source": [
        "os.makedirs('bronze', exist_ok=True)\n",
        "fake = Faker()\n"
      ],
      "metadata": {
        "id": "8H4JwejmxA3L"
      },
      "execution_count": 47,
      "outputs": []
    },
    {
      "cell_type": "code",
      "source": [
        "num_stores_target = 3000\n",
        "print(f\"Creando df_stores con {num_stores_target} tiendas...\")\n",
        "nombres_tiendas = [fake.company() + ' Bakery ' + str(i) for i in range(num_stores_target)]\n",
        "ciudades_tiendas = [fake.city() for _ in range(num_stores_target)]\n",
        "def generate_stores_data(num_stores):\n",
        "\n",
        "    \"\"\"Genera datos simulados para la dimensión de tiendas.\"\"\"\n",
        "    print(f\"Generando datos para {num_stores} tiendas...\")\n",
        "    fake = Faker('es_ES') # Datos en español\n",
        "    stores_list = []\n",
        "    # Ciudades de ejemplo en español para dar variedad\n",
        "    cities = ['Madrid', 'Barcelona', 'Valencia', 'Sevilla', 'Zaragoza',\n",
        "              'Málaga', 'Murcia', 'Palma', 'Las Palmas de Gran Canaria',\n",
        "              'Bilbao', 'Alicante', 'Córdoba', 'Valladolid', 'Vigo',\n",
        "              'León', 'Salamanca', 'Granada', 'Toledo', 'Santiago de Compostela',\n",
        "              'Santander', 'Gijón', 'Oviedo', 'Pamplona', 'Logroño', 'Cádiz',\n",
        "              'Burgos', 'Albacete', 'Huelva', 'Jaén', 'Lérida', 'Girona',\n",
        "              'Tarragona', 'Cáceres', 'Badajoz', 'Soria', 'Cuenca', 'Ávila',\n",
        "              'Segovia', 'Teruel', 'Huesca', 'Palencia', 'Zamora', 'Orense',\n",
        "              'Lugo', 'Pontevedra', 'Ceuta', 'Melilla', 'San Sebastián', 'Vitoria-Gasteiz'\n",
        "             ]\n",
        "    regions = ['Centro', 'Norte', 'Este', 'Sur', 'Canarias', 'Noroeste', 'Levante', 'Andalucía', 'Aragón', 'Castilla y León', 'Cataluña']\n",
        "\n",
        "    for i in range(num_stores):\n",
        "        store_city = random.choice(cities)\n",
        "        stores_list.append({\n",
        "            'store_id': i + 1,\n",
        "            'store_name': f\"Tienda {i + 1} - {store_city}\",\n",
        "            'city': store_city,\n",
        "            'region': random.choice(regions),\n",
        "            'opening_date': fake.date_between(start_date='-10y', end_date='today')\n",
        "        })\n",
        "    df_stores = pd.DataFrame(stores_list)\n",
        "    print(f\"Datos de tiendas generados: {len(df_stores)} registros.\")\n",
        "    return df_stores\n",
        "# Definir el número de productos que quieres generar\n",
        "NUM_PRODUCTOS_OBJETIVO = 200 # Basado en tu solicitud de 200 productos\n",
        "\n",
        "def generate_products_data_custom(num_products_objective, fake_instance):\n",
        "    \"\"\"\n",
        "    Genera datos para la dimensión de productos usando la lógica proporcionada,\n",
        "    asegurando el número de productos especificado con clasificación de pan y otros.\n",
        "    Los nombres de las columnas ya están estandarizados para el pipeline.\n",
        "    \"\"\"\n",
        "    print(f\"Generando datos para DimProducto ({num_products_objective} productos, incluyendo clasificación de pan)...\")\n",
        "    productos_data_list = []\n",
        "\n",
        "    # Clasificaciones de Pan\n",
        "    tipos_harina = ['Trigo', 'Centeno', 'Espelta', 'Maíz', 'Germinado', 'Mixta', 'Sin Gluten']\n",
        "    sabores_aditivos = ['Básico', 'Con Semillas', 'De Ajo', 'Dulce', 'Integral', 'Fermentado', 'Crocante', 'Amargo']\n",
        "    categorias_pan = ['Panadería Artesanal', 'Pan Dulce', 'Bollos', 'Panes Especiales', 'Pan Integral', 'Pan de Molde']\n",
        "    categorias_no_pan = ['Bebida Caliente', 'Bebida Fría', 'Repostería', 'Bocadillo Salado', 'Postre', 'Salado']\n",
        "\n",
        "    # Nombres base para los productos (mezclando pan y otros genéricos)\n",
        "    nombres_pan_base = [\n",
        "        'Pan de Campo', 'Baguette', 'Ciabatta', 'Focaccia', 'Pan de Centeno Clásico',\n",
        "        'Pan de Maíz', 'Pan de Espelta', 'Pan Germinado Vital', 'Pan Multicereal',\n",
        "        'Pan Integral Casero', 'Pan Dulce de Naranja', 'Bollos de Leche', 'Croissant',\n",
        "        'Pan de Ajo Rústico', 'Pan con Semillas de Chía', 'Pan de Masa Madre',\n",
        "        'Panini', 'Brioche', 'Muffin de Pan', 'Pan de Coco', 'Pan Chapata', 'Pan de Pita',\n",
        "        'Pan de Hamburguesa', 'Pan de Hot Dog', 'Pan de Avena', 'Pan de Calabaza',\n",
        "        'Pan de Zanahoria', 'Pan de Cebolla', 'Pan de Aceitunas', 'Pan de Tomate Seco'\n",
        "    ]\n",
        "    # Nombres base para otros productos\n",
        "    nombres_otros_base = [\n",
        "        'Café Americano', 'Latte Macchiato', 'Té Verde', 'Jugo de Naranja', 'Agua Mineral',\n",
        "        'Galleta de Avena', 'Muffin de Arándanos', 'Tarta de Manzana', 'Brownie de Chocolate',\n",
        "        'Sándwich de Jamón y Queso', 'Ensalada César', 'Wrap de Pollo', 'Chips de Patata',\n",
        "        'Donut Glaseado', 'Magdalena', 'Bocadillo de Atún', 'Zumo de frutas', 'Refresco de cola',\n",
        "        'Cerveza artesanal', 'Vino tinto', 'Agua con gas', 'Té helado', 'Chocolate caliente',\n",
        "        'Crepa de Nutella', 'Pastel de chocolate', 'Flan casero', 'Helado de vainilla',\n",
        "        'Barrita energética', 'Yogur griego', 'Cereal integral', 'Sopa de verduras',\n",
        "        'Pizza personal', 'Empanada de carne', 'Quiche de espinacas', 'Taco de cochinita',\n",
        "        'Nachos con queso', 'Burrito de pollo', 'Enchiladas suizas', 'Guacamole con totopos',\n",
        "        'Gelatina de fresa', 'Arroz con leche', 'Churros con chocolate', 'Buñuelos',\n",
        "        'Paleta de hielo', 'Fruta fresca', 'Smoothie verde', 'Ensalada de frutas',\n",
        "        'Panqueques con miel', 'Waffles con crema', 'Huevo revuelto', 'Omelette de queso',\n",
        "        'Tostada de aguacate', 'Cereal con leche', 'Sopa de tortilla', 'Crema de champiñones'\n",
        "    ]\n",
        "\n",
        "    # Combinamos y extendemos los nombres si NUM_PRODUCTOS_OBJETIVO lo requiere,\n",
        "    # para tener suficientes nombres únicos\n",
        "    all_base_names = nombres_pan_base + nombres_otros_base\n",
        "    extended_names = list(all_base_names)\n",
        "    while len(extended_names) < num_products_objective:\n",
        "        extended_names.append(fake_instance.unique.word().capitalize() + f' Gen {len(extended_names)}')\n",
        "    random.shuffle(extended_names) # Mezclamos para no tener solo pan al principio\n",
        "\n",
        "    # Generar datos de productos\n",
        "    for i in range(num_products_objective):\n",
        "        nombre_producto = extended_names[i]\n",
        "        precio_base = round(np.random.uniform(1.0, 50.0), 2)\n",
        "        marca = fake_instance.company()\n",
        "\n",
        "        # Lógica para identificar panes (más robusta)\n",
        "        is_bread = False\n",
        "        if any(word in nombre_producto.lower() for word in ['pan', 'baguette', 'ciabatta', 'focaccia', 'brioche', 'bollo', 'croissant', 'muffin', 'chapata', 'pita', 'hamburguesa', 'hot dog', 'avena', 'calabaza', 'zanahoria', 'cebolla', 'aceitunas', 'tomate seco', 'multicereal', 'integral', 'centeno', 'espelta', 'maíz', 'germinad']):\n",
        "            is_bread = True\n",
        "\n",
        "        # Clasificar y asignar detalles de pan/no pan\n",
        "        if is_bread:\n",
        "            categoria_producto = random.choice(categorias_pan)\n",
        "            tipo_harina_pan = random.choice(tipos_harina)\n",
        "            sabor_aditivo_pan = random.choice(sabores_aditivos)\n",
        "        else:\n",
        "            categoria_producto = random.choice(categorias_no_pan)\n",
        "            tipo_harina_pan = 'No Aplica'\n",
        "            sabor_aditivo_pan = 'No Aplica'\n",
        "\n",
        "        productos_data_list.append({\n",
        "            'product_id': i + 1,\n",
        "            'product_name': nombre_producto,\n",
        "            'category': categoria_producto,\n",
        "            'brand': marca,\n",
        "            'price': precio_base,\n",
        "            'flour_type_bread': tipo_harina_pan,\n",
        "            'additive_flavor_bread': sabor_aditivo_pan\n",
        "        })\n",
        "    df_products = pd.DataFrame(productos_data_list)\n",
        "    print(f\"Datos de productos generados: {len(df_products)} registros.\")\n",
        "    return df_products"
      ],
      "metadata": {
        "colab": {
          "base_uri": "https://localhost:8080/"
        },
        "id": "GvWlRuz252ZW",
        "outputId": "f6368e11-65fc-48a1-cf44-7f81b831874d"
      },
      "execution_count": 50,
      "outputs": [
        {
          "output_type": "stream",
          "name": "stdout",
          "text": [
            "Creando df_stores con 3000 tiendas...\n"
          ]
        }
      ]
    },
    {
      "cell_type": "code",
      "source": [
        "df_stores = generate_stores_data(num_stores_target)"
      ],
      "metadata": {
        "colab": {
          "base_uri": "https://localhost:8080/"
        },
        "id": "TOaf7vEgE5V8",
        "outputId": "6c9a9146-a2ec-42ac-b323-c570f5c3dfa2"
      },
      "execution_count": 51,
      "outputs": [
        {
          "output_type": "stream",
          "name": "stdout",
          "text": [
            "Generando datos para 3000 tiendas...\n",
            "Datos de tiendas generados: 3000 registros.\n"
          ]
        }
      ]
    },
    {
      "cell_type": "code",
      "source": [
        "df_bakery = pd.read_csv('Bakery.csv')\n"
      ],
      "metadata": {
        "id": "uewVTZqsxeDM"
      },
      "execution_count": 52,
      "outputs": []
    },
    {
      "cell_type": "code",
      "source": [
        "print(\"\\nPrimeras 5 filas:\")\n",
        "print(df_bakery.head())"
      ],
      "metadata": {
        "colab": {
          "base_uri": "https://localhost:8080/"
        },
        "collapsed": true,
        "id": "alvWNoTk5XuB",
        "outputId": "2c9914a4-a5cb-4f82-b004-a9da2cb56fa1"
      },
      "execution_count": 53,
      "outputs": [
        {
          "output_type": "stream",
          "name": "stdout",
          "text": [
            "\n",
            "Primeras 5 filas:\n",
            "   TransactionNo          Items             DateTime  Daypart  DayType\n",
            "0              1          Bread  2016-10-30 09:58:11  Morning  Weekend\n",
            "1              2   Scandinavian  2016-10-30 10:05:34  Morning  Weekend\n",
            "2              2   Scandinavian  2016-10-30 10:05:34  Morning  Weekend\n",
            "3              3  Hot chocolate  2016-10-30 10:07:57  Morning  Weekend\n",
            "4              3            Jam  2016-10-30 10:07:57  Morning  Weekend\n"
          ]
        }
      ]
    },
    {
      "cell_type": "code",
      "source": [
        "\n",
        "# Obtener una lista de los IDs de tienda disponibles de df_stores\n",
        "ids_tiendas_disponibles = df_stores['store_id'].tolist()\n"
      ],
      "metadata": {
        "id": "grS42XK27Vqb"
      },
      "execution_count": 54,
      "outputs": []
    },
    {
      "cell_type": "code",
      "source": [
        "# Generar una lista de IDs de tienda aleatorios del tamaño de df_bakery\n",
        "# Usamos random.choices para permitir repeticiones\n",
        "tiendas_aleatorias = random.choices(ids_tiendas_disponibles, k=len(df_bakery))"
      ],
      "metadata": {
        "id": "qRTcDW5U827r"
      },
      "execution_count": 55,
      "outputs": []
    },
    {
      "cell_type": "code",
      "source": [
        "# Asignar esta lista como una nueva columna en df_bakery\n",
        "df_bakery['ID_Tienda_Aleatoria'] = tiendas_aleatorias"
      ],
      "metadata": {
        "id": "ydJ0Emzx9AqX"
      },
      "execution_count": 56,
      "outputs": []
    },
    {
      "cell_type": "code",
      "source": [
        "print(\"\\nDataFrame df_bakery con la nueva columna 'ID_Tienda_Aleatoria':\")\n",
        "print(df_bakery.head())"
      ],
      "metadata": {
        "colab": {
          "base_uri": "https://localhost:8080/"
        },
        "collapsed": true,
        "id": "9YKoWhiu9IjX",
        "outputId": "ed3fcbe7-2ad3-43ff-c72e-8f81065bc6da"
      },
      "execution_count": 57,
      "outputs": [
        {
          "output_type": "stream",
          "name": "stdout",
          "text": [
            "\n",
            "DataFrame df_bakery con la nueva columna 'ID_Tienda_Aleatoria':\n",
            "   TransactionNo          Items             DateTime  Daypart  DayType  \\\n",
            "0              1          Bread  2016-10-30 09:58:11  Morning  Weekend   \n",
            "1              2   Scandinavian  2016-10-30 10:05:34  Morning  Weekend   \n",
            "2              2   Scandinavian  2016-10-30 10:05:34  Morning  Weekend   \n",
            "3              3  Hot chocolate  2016-10-30 10:07:57  Morning  Weekend   \n",
            "4              3            Jam  2016-10-30 10:07:57  Morning  Weekend   \n",
            "\n",
            "   ID_Tienda_Aleatoria  \n",
            "0                 2122  \n",
            "1                 2883  \n",
            "2                 2484  \n",
            "3                 1461  \n",
            "4                 1530  \n"
          ]
        }
      ]
    },
    {
      "cell_type": "code",
      "source": [
        "print(\"\\nColumnas en df_bakery:\", df_bakery.columns.tolist())\n",
        "print(\"Columnas en df_stores:\", df_stores.columns.tolist())"
      ],
      "metadata": {
        "colab": {
          "base_uri": "https://localhost:8080/"
        },
        "collapsed": true,
        "id": "qzuVEl4Y9_SQ",
        "outputId": "fb3e3dba-8a79-4132-c67c-61a42a979773"
      },
      "execution_count": 58,
      "outputs": [
        {
          "output_type": "stream",
          "name": "stdout",
          "text": [
            "\n",
            "Columnas en df_bakery: ['TransactionNo', 'Items', 'DateTime', 'Daypart', 'DayType', 'ID_Tienda_Aleatoria']\n",
            "Columnas en df_stores: ['store_id', 'store_name', 'city', 'region', 'opening_date']\n"
          ]
        }
      ]
    },
    {
      "cell_type": "code",
      "source": [
        "# Realizar el merge (join)\n",
        "# left_on: la columna en df_bakery\n",
        "# right_on: la columna en df_stores\n",
        "# how='left': Mantiene todas las filas de df_bakery\n",
        "df_final = pd.merge(df_bakery, df_stores,\n",
        "                    left_on='ID_Tienda_Aleatoria',\n",
        "                    right_on='store_id',\n",
        "                    how='left')\n",
        "\n",
        "# 1. Columna 'Cantidad' (Qty)\n",
        "# Para cada fila (que representa un item en una transacción),\n",
        "# asignamos una cantidad aleatoria (ej. entre 1 y 5 unidades por item).\n",
        "df_final['Cantidad'] = np.random.randint(1, 6, size=len(df_final)) # Genera enteros entre 1 y 5\n",
        "\n",
        "# 2. Columna 'Precio_Unitario'\n",
        "# Asignaremos precios unitarios aleatorios.\n",
        "# Los precios dependerán del tipo de producto. Podemos usar un rango general\n",
        "# o, para mayor realismo, un diccionario de precios base por producto.\n",
        "\n",
        "# Para simplificar y mantener la aleatoriedad, un rango general:\n",
        "df_final['Precio_Unitario'] = np.round(np.random.uniform(1.0, 25.0, size=len(df_final)), 2)\n",
        "# Nota: Esto asigna un precio unitario aleatorio a CADA INSTANCIA del producto,\n",
        "# incluso si es el mismo producto en diferentes transacciones.\n",
        "# Si quisieras un precio fijo por tipo de 'Items', sería diferente.\n",
        "\n",
        "# Ejemplo de precios fijos por producto (más realista, pero más complejo si hay muchos productos)\n",
        "# precios_base = {\n",
        "#     'Bread': 2.50, 'Scandinavian': 3.00, 'Hot chocolate': 4.50, 'Jam': 3.50,\n",
        "#     'Coffee': 3.00, 'Tea': 2.80, 'Pastry': 2.00, 'Muffin': 2.20, 'Cookies': 1.80,\n",
        "#     'Cake': 20.00, 'Scone': 2.00, 'Donut': 2.00\n",
        "# }\n",
        "# # Función para obtener el precio base y añadir un poco de aleatoriedad (ej. +- 10%)\n",
        "# def get_random_price(item):\n",
        "#     base = precios_base.get(item, 5.00) # 5.00 es un precio por defecto si no lo encuentra\n",
        "#     return round(base * random.uniform(0.9, 1.1), 2)\n",
        "# df_final['Precio_Unitario'] = df_final['Items'].apply(get_random_price)\n",
        "\n",
        "\n",
        "# 3. Columna 'Total_Producto' (Cantidad * Precio_Unitario)\n",
        "\n",
        "df_final['Total_Producto'] = df_final['Cantidad'] * df_final['Precio_Unitario']\n",
        "\n",
        "print(\"\\nDataFrame final con 'Cantidad', 'Precio_Unitario' y 'Total_Producto' añadidos:\")\n",
        "print(df_final.head(10)) # Muestra más filas para ver mejor los nuevos datos\n",
        "\n",
        "# Información para verificar los nuevos tipos de datos\n",
        "print(\"\\nInformación del DataFrame final con las nuevas columnas:\")\n",
        "df_final.info()\n",
        "\n",
        "print(\"\\nDataFrame final después de juntar (merge) los datos de la tienda:\")\n",
        "print(df_final.head())\n",
        "\n",
        "print(\"\\nInformación del DataFrame final para verificar tipos y nulos:\")\n",
        "df_final.info()"
      ],
      "metadata": {
        "id": "Eh_-F0Dc9mKA",
        "colab": {
          "base_uri": "https://localhost:8080/"
        },
        "outputId": "c160ebc6-c01e-444c-b6e2-79a95a528703"
      },
      "execution_count": 59,
      "outputs": [
        {
          "output_type": "stream",
          "name": "stdout",
          "text": [
            "\n",
            "DataFrame final con 'Cantidad', 'Precio_Unitario' y 'Total_Producto' añadidos:\n",
            "   TransactionNo          Items             DateTime  Daypart  DayType  \\\n",
            "0              1          Bread  2016-10-30 09:58:11  Morning  Weekend   \n",
            "1              2   Scandinavian  2016-10-30 10:05:34  Morning  Weekend   \n",
            "2              2   Scandinavian  2016-10-30 10:05:34  Morning  Weekend   \n",
            "3              3  Hot chocolate  2016-10-30 10:07:57  Morning  Weekend   \n",
            "4              3            Jam  2016-10-30 10:07:57  Morning  Weekend   \n",
            "5              3        Cookies  2016-10-30 10:07:57  Morning  Weekend   \n",
            "6              4         Muffin  2016-10-30 10:08:41  Morning  Weekend   \n",
            "7              5         Coffee  2016-10-30 10:13:03  Morning  Weekend   \n",
            "8              5         Pastry  2016-10-30 10:13:03  Morning  Weekend   \n",
            "9              5          Bread  2016-10-30 10:13:03  Morning  Weekend   \n",
            "\n",
            "   ID_Tienda_Aleatoria  store_id                                store_name  \\\n",
            "0                 2122      2122                     Tienda 2122 - Cáceres   \n",
            "1                 2883      2883                   Tienda 2883 - Santander   \n",
            "2                 2484      2484  Tienda 2484 - Las Palmas de Gran Canaria   \n",
            "3                 1461      1461                      Tienda 1461 - Girona   \n",
            "4                 1530      1530                  Tienda 1530 - Pontevedra   \n",
            "5                 2806      2806                  Tienda 2806 - Valladolid   \n",
            "6                 1764      1764                   Tienda 1764 - Santander   \n",
            "7                  383       383                      Tienda 383 - Segovia   \n",
            "8                 2512      2512                      Tienda 2512 - Huesca   \n",
            "9                 1047      1047                    Tienda 1047 - Zaragoza   \n",
            "\n",
            "                         city     region opening_date  Cantidad  \\\n",
            "0                     Cáceres    Levante   2017-10-20         1   \n",
            "1                   Santander    Levante   2025-02-28         1   \n",
            "2  Las Palmas de Gran Canaria   Noroeste   2016-11-26         4   \n",
            "3                      Girona     Centro   2016-12-06         4   \n",
            "4                  Pontevedra    Levante   2016-02-19         2   \n",
            "5                  Valladolid   Canarias   2015-08-31         2   \n",
            "6                   Santander  Andalucía   2019-06-16         5   \n",
            "7                     Segovia        Sur   2018-06-20         1   \n",
            "8                      Huesca    Levante   2020-07-24         4   \n",
            "9                    Zaragoza   Canarias   2019-12-20         5   \n",
            "\n",
            "   Precio_Unitario  Total_Producto  \n",
            "0            13.05           13.05  \n",
            "1             1.02            1.02  \n",
            "2             4.01           16.04  \n",
            "3             6.23           24.92  \n",
            "4             3.15            6.30  \n",
            "5            16.78           33.56  \n",
            "6             2.32           11.60  \n",
            "7             9.06            9.06  \n",
            "8            16.15           64.60  \n",
            "9            21.15          105.75  \n",
            "\n",
            "Información del DataFrame final con las nuevas columnas:\n",
            "<class 'pandas.core.frame.DataFrame'>\n",
            "RangeIndex: 20507 entries, 0 to 20506\n",
            "Data columns (total 14 columns):\n",
            " #   Column               Non-Null Count  Dtype  \n",
            "---  ------               --------------  -----  \n",
            " 0   TransactionNo        20507 non-null  int64  \n",
            " 1   Items                20507 non-null  object \n",
            " 2   DateTime             20507 non-null  object \n",
            " 3   Daypart              20507 non-null  object \n",
            " 4   DayType              20507 non-null  object \n",
            " 5   ID_Tienda_Aleatoria  20507 non-null  int64  \n",
            " 6   store_id             20507 non-null  int64  \n",
            " 7   store_name           20507 non-null  object \n",
            " 8   city                 20507 non-null  object \n",
            " 9   region               20507 non-null  object \n",
            " 10  opening_date         20507 non-null  object \n",
            " 11  Cantidad             20507 non-null  int64  \n",
            " 12  Precio_Unitario      20507 non-null  float64\n",
            " 13  Total_Producto       20507 non-null  float64\n",
            "dtypes: float64(2), int64(4), object(8)\n",
            "memory usage: 2.2+ MB\n",
            "\n",
            "DataFrame final después de juntar (merge) los datos de la tienda:\n",
            "   TransactionNo          Items             DateTime  Daypart  DayType  \\\n",
            "0              1          Bread  2016-10-30 09:58:11  Morning  Weekend   \n",
            "1              2   Scandinavian  2016-10-30 10:05:34  Morning  Weekend   \n",
            "2              2   Scandinavian  2016-10-30 10:05:34  Morning  Weekend   \n",
            "3              3  Hot chocolate  2016-10-30 10:07:57  Morning  Weekend   \n",
            "4              3            Jam  2016-10-30 10:07:57  Morning  Weekend   \n",
            "\n",
            "   ID_Tienda_Aleatoria  store_id                                store_name  \\\n",
            "0                 2122      2122                     Tienda 2122 - Cáceres   \n",
            "1                 2883      2883                   Tienda 2883 - Santander   \n",
            "2                 2484      2484  Tienda 2484 - Las Palmas de Gran Canaria   \n",
            "3                 1461      1461                      Tienda 1461 - Girona   \n",
            "4                 1530      1530                  Tienda 1530 - Pontevedra   \n",
            "\n",
            "                         city    region opening_date  Cantidad  \\\n",
            "0                     Cáceres   Levante   2017-10-20         1   \n",
            "1                   Santander   Levante   2025-02-28         1   \n",
            "2  Las Palmas de Gran Canaria  Noroeste   2016-11-26         4   \n",
            "3                      Girona    Centro   2016-12-06         4   \n",
            "4                  Pontevedra   Levante   2016-02-19         2   \n",
            "\n",
            "   Precio_Unitario  Total_Producto  \n",
            "0            13.05           13.05  \n",
            "1             1.02            1.02  \n",
            "2             4.01           16.04  \n",
            "3             6.23           24.92  \n",
            "4             3.15            6.30  \n",
            "\n",
            "Información del DataFrame final para verificar tipos y nulos:\n",
            "<class 'pandas.core.frame.DataFrame'>\n",
            "RangeIndex: 20507 entries, 0 to 20506\n",
            "Data columns (total 14 columns):\n",
            " #   Column               Non-Null Count  Dtype  \n",
            "---  ------               --------------  -----  \n",
            " 0   TransactionNo        20507 non-null  int64  \n",
            " 1   Items                20507 non-null  object \n",
            " 2   DateTime             20507 non-null  object \n",
            " 3   Daypart              20507 non-null  object \n",
            " 4   DayType              20507 non-null  object \n",
            " 5   ID_Tienda_Aleatoria  20507 non-null  int64  \n",
            " 6   store_id             20507 non-null  int64  \n",
            " 7   store_name           20507 non-null  object \n",
            " 8   city                 20507 non-null  object \n",
            " 9   region               20507 non-null  object \n",
            " 10  opening_date         20507 non-null  object \n",
            " 11  Cantidad             20507 non-null  int64  \n",
            " 12  Precio_Unitario      20507 non-null  float64\n",
            " 13  Total_Producto       20507 non-null  float64\n",
            "dtypes: float64(2), int64(4), object(8)\n",
            "memory usage: 2.2+ MB\n"
          ]
        }
      ]
    },
    {
      "cell_type": "code",
      "source": [
        "# --- CREACIÓN DE df_bakery (para ~1 millón de filas de ventas) ---\n",
        "num_rows_target = 1_000_000 # Un millón de filas de ventas (cada fila es un ítem vendido)\n",
        "print(f\"Creando df_bakery con {num_rows_target} filas de ventas...\")\n",
        "\n"
      ],
      "metadata": {
        "colab": {
          "base_uri": "https://localhost:8080/"
        },
        "id": "9WdY9SbH-Zvv",
        "outputId": "9eb24c31-0d1d-4374-eb58-6f1f7c7b39b7"
      },
      "execution_count": 60,
      "outputs": [
        {
          "output_type": "stream",
          "name": "stdout",
          "text": [
            "Creando df_bakery con 1000000 filas de ventas...\n"
          ]
        }
      ]
    },
    {
      "cell_type": "code",
      "source": [
        "# Para 200 productos únicos\n",
        "num_products_target = 200\n",
        "productos_unicos = [fake.word().capitalize() + str(i) for i in range(num_products_target)]\n",
        "\n",
        "# Generar datos para df_bakery\n",
        "# Generaremos TransactionNo de forma que tengamos aproximadamente 1 millón de filas de ítems\n",
        "# Si cada transacción tiene en promedio 3 ítems, necesitaríamos ~333,333 transacciones únicas.\n",
        "# Para simplificar y asegurar 1M de filas, haremos que cada fila represente un \"item_venta\" único,\n",
        "# y TransactionNo se puede repetir para simular múltiples ítems por transacción.\n",
        "# La forma más directa de obtener 1M de filas es generar 1M de TransactionNo y luego items, etc.\n",
        "\n",
        "# IDs de transacción (pueden repetirse para simular múltiples ítems por transacción)\n",
        "# Asignaremos TransactionNo en bloques para simular transacciones con varios ítems.\n",
        "# Por ejemplo, cada 3 ítems podrían ser la misma transacción.\n",
        "items_per_transaction_avg = 3 # Puedes ajustar este promedio\n",
        "num_transactions_unique = num_rows_target // items_per_transaction_avg\n",
        "\n",
        "transaction_nos = np.repeat(np.arange(1, num_transactions_unique + 1), items_per_transaction_avg)[:num_rows_target]\n",
        "# Aseguramos que la longitud sea exactamente num_rows_target\n",
        "if len(transaction_nos) < num_rows_target:\n",
        "    transaction_nos = np.concatenate((transaction_nos, np.arange(num_transactions_unique + 1, num_transactions_unique + 1 + (num_rows_target - len(transaction_nos)))))\n",
        "elif len(transaction_nos) > num_rows_target:\n",
        "    transaction_nos = transaction_nos[:num_rows_target]\n",
        "\n",
        "# Otros datos para df_bakery\n",
        "items = random.choices(productos_unicos, k=num_rows_target)\n",
        "prices = np.round(np.random.uniform(1.0, 50.0, size=num_rows_target), 2)\n",
        "quantities_sold = np.random.randint(1, 10, size=num_rows_target)\n",
        "\n",
        "# Generar fechas aleatorias dentro de un rango (ej. los últimos 2 años)\n",
        "start_date = pd.to_datetime('2023-01-01')\n",
        "end_date = pd.to_datetime('2025-05-20') # Fecha actual\n",
        "# Generar timestamps aleatorios\n",
        "random_dates_numeric = np.random.uniform(start_date.timestamp(), end_date.timestamp(), size=num_rows_target)\n",
        "dates = pd.to_datetime(random_dates_numeric, unit='s')\n"
      ],
      "metadata": {
        "id": "GE2gV3b6-Zfn"
      },
      "execution_count": 61,
      "outputs": []
    },
    {
      "cell_type": "code",
      "source": [
        "print(\"df_bakery creado con un millón de filas.\")\n",
        "print(df_bakery.head())\n",
        "print(f\"Shape de df_bakery: {df_bakery.shape}\")"
      ],
      "metadata": {
        "colab": {
          "base_uri": "https://localhost:8080/"
        },
        "id": "pc6heCjuEZXZ",
        "outputId": "1284faff-2651-4cc4-bd72-d7a5ff171df5"
      },
      "execution_count": 62,
      "outputs": [
        {
          "output_type": "stream",
          "name": "stdout",
          "text": [
            "df_bakery creado con un millón de filas.\n",
            "   TransactionNo          Items             DateTime  Daypart  DayType  \\\n",
            "0              1          Bread  2016-10-30 09:58:11  Morning  Weekend   \n",
            "1              2   Scandinavian  2016-10-30 10:05:34  Morning  Weekend   \n",
            "2              2   Scandinavian  2016-10-30 10:05:34  Morning  Weekend   \n",
            "3              3  Hot chocolate  2016-10-30 10:07:57  Morning  Weekend   \n",
            "4              3            Jam  2016-10-30 10:07:57  Morning  Weekend   \n",
            "\n",
            "   ID_Tienda_Aleatoria  \n",
            "0                 2122  \n",
            "1                 2883  \n",
            "2                 2484  \n",
            "3                 1461  \n",
            "4                 1530  \n",
            "Shape de df_bakery: (20507, 6)\n"
          ]
        }
      ]
    },
    {
      "cell_type": "code",
      "source": [
        "print(\"\\nDataFrame 'df_final' (con info de tiendas) creado y listo para añadir detalles de venta.\")\n",
        "print(df_final.head())\n",
        "print(f\"Shape de df_final después del primer merge: {df_final.shape}\")\n",
        "df_final.info()"
      ],
      "metadata": {
        "colab": {
          "base_uri": "https://localhost:8080/"
        },
        "id": "jjsgHlIBE6re",
        "outputId": "e54b9c63-8465-46b5-9ea8-131fbd2d3e66"
      },
      "execution_count": 63,
      "outputs": [
        {
          "output_type": "stream",
          "name": "stdout",
          "text": [
            "\n",
            "DataFrame 'df_final' (con info de tiendas) creado y listo para añadir detalles de venta.\n",
            "   TransactionNo          Items             DateTime  Daypart  DayType  \\\n",
            "0              1          Bread  2016-10-30 09:58:11  Morning  Weekend   \n",
            "1              2   Scandinavian  2016-10-30 10:05:34  Morning  Weekend   \n",
            "2              2   Scandinavian  2016-10-30 10:05:34  Morning  Weekend   \n",
            "3              3  Hot chocolate  2016-10-30 10:07:57  Morning  Weekend   \n",
            "4              3            Jam  2016-10-30 10:07:57  Morning  Weekend   \n",
            "\n",
            "   ID_Tienda_Aleatoria  store_id                                store_name  \\\n",
            "0                 2122      2122                     Tienda 2122 - Cáceres   \n",
            "1                 2883      2883                   Tienda 2883 - Santander   \n",
            "2                 2484      2484  Tienda 2484 - Las Palmas de Gran Canaria   \n",
            "3                 1461      1461                      Tienda 1461 - Girona   \n",
            "4                 1530      1530                  Tienda 1530 - Pontevedra   \n",
            "\n",
            "                         city    region opening_date  Cantidad  \\\n",
            "0                     Cáceres   Levante   2017-10-20         1   \n",
            "1                   Santander   Levante   2025-02-28         1   \n",
            "2  Las Palmas de Gran Canaria  Noroeste   2016-11-26         4   \n",
            "3                      Girona    Centro   2016-12-06         4   \n",
            "4                  Pontevedra   Levante   2016-02-19         2   \n",
            "\n",
            "   Precio_Unitario  Total_Producto  \n",
            "0            13.05           13.05  \n",
            "1             1.02            1.02  \n",
            "2             4.01           16.04  \n",
            "3             6.23           24.92  \n",
            "4             3.15            6.30  \n",
            "Shape de df_final después del primer merge: (20507, 14)\n",
            "<class 'pandas.core.frame.DataFrame'>\n",
            "RangeIndex: 20507 entries, 0 to 20506\n",
            "Data columns (total 14 columns):\n",
            " #   Column               Non-Null Count  Dtype  \n",
            "---  ------               --------------  -----  \n",
            " 0   TransactionNo        20507 non-null  int64  \n",
            " 1   Items                20507 non-null  object \n",
            " 2   DateTime             20507 non-null  object \n",
            " 3   Daypart              20507 non-null  object \n",
            " 4   DayType              20507 non-null  object \n",
            " 5   ID_Tienda_Aleatoria  20507 non-null  int64  \n",
            " 6   store_id             20507 non-null  int64  \n",
            " 7   store_name           20507 non-null  object \n",
            " 8   city                 20507 non-null  object \n",
            " 9   region               20507 non-null  object \n",
            " 10  opening_date         20507 non-null  object \n",
            " 11  Cantidad             20507 non-null  int64  \n",
            " 12  Precio_Unitario      20507 non-null  float64\n",
            " 13  Total_Producto       20507 non-null  float64\n",
            "dtypes: float64(2), int64(4), object(8)\n",
            "memory usage: 2.2+ MB\n"
          ]
        }
      ]
    },
    {
      "cell_type": "code",
      "source": [
        "# Antes de df_final.to_parquet(full_path, index=False)\n",
        "if 'ID_Tienda_Aleatoria' in df_final.columns:\n",
        "    # Intenta convertir a numérico primero, manejando errores (coercing)\n",
        "    df_final['ID_Tienda_Aleatoria'] = pd.to_numeric(df_final['ID_Tienda_Aleatoria'], errors='coerce')\n",
        "    # Luego, rellena NaNs si aparecen (quizás con 0 o con un ID por defecto si es una simulación)\n",
        "    df_final['ID_Tienda_Aleatoria'].fillna(0, inplace=True) # O un valor apropiado si NaN es posible\n",
        "    # Finalmente, convierte a entero\n",
        "    df_final['ID_Tienda_Aleatoria'] = df_final['ID_Tienda_Aleatoria'].astype(int)\n"
      ],
      "metadata": {
        "colab": {
          "base_uri": "https://localhost:8080/"
        },
        "id": "Ml8mdpUI6vYH",
        "outputId": "91c1e95d-9287-4c50-b3f7-f1b1dc661d1f"
      },
      "execution_count": 64,
      "outputs": [
        {
          "output_type": "stream",
          "name": "stderr",
          "text": [
            "<ipython-input-64-aa2ada88029e>:6: FutureWarning: A value is trying to be set on a copy of a DataFrame or Series through chained assignment using an inplace method.\n",
            "The behavior will change in pandas 3.0. This inplace method will never work because the intermediate object on which we are setting values always behaves as a copy.\n",
            "\n",
            "For example, when doing 'df[col].method(value, inplace=True)', try using 'df.method({col: value}, inplace=True)' or df[col] = df[col].method(value) instead, to perform the operation inplace on the original object.\n",
            "\n",
            "\n",
            "  df_final['ID_Tienda_Aleatoria'].fillna(0, inplace=True) # O un valor apropiado si NaN es posible\n"
          ]
        }
      ]
    },
    {
      "cell_type": "code",
      "source": [
        "num_tiendas_unicas = df_stores['store_id'].nunique()\n",
        "print(f\"\\nNúmero de tiendas únicas en df_stores (creadas): {num_tiendas_unicas}\")\n",
        "\n",
        "num_productos_unicos = df_final['Items'].nunique()\n",
        "print(f\"Número de productos únicos en df_final (derivado de df_bakery): {num_productos_unicos}\")\n",
        "\n",
        "num_filas_ventas = df_final.shape[0]\n",
        "print(f\"Número total de filas de ventas (ítems individuales) en df_final: {num_filas_ventas}\")\n",
        "\n",
        "num_transacciones_unicas = df_final['TransactionNo'].nunique()\n",
        "print(f\"Número total de transacciones únicas en df_final: {num_transacciones_unicas}\")\n",
        "\n",
        "print(\"\\n\" + \"=\"*30)\n",
        "print(\"--- VERIFICACIÓN COMPLETA ---\")\n",
        "print(\"=\"*30)"
      ],
      "metadata": {
        "colab": {
          "base_uri": "https://localhost:8080/"
        },
        "collapsed": true,
        "id": "gBfjzEJyFJBy",
        "outputId": "5eee3a52-b6ab-4c7d-cbc9-64424648192b"
      },
      "execution_count": 65,
      "outputs": [
        {
          "output_type": "stream",
          "name": "stdout",
          "text": [
            "\n",
            "Número de tiendas únicas en df_stores (creadas): 3000\n",
            "Número de productos únicos en df_final (derivado de df_bakery): 94\n",
            "Número total de filas de ventas (ítems individuales) en df_final: 20507\n",
            "Número total de transacciones únicas en df_final: 9465\n",
            "\n",
            "==============================\n",
            "--- VERIFICACIÓN COMPLETA ---\n",
            "==============================\n"
          ]
        }
      ]
    },
    {
      "cell_type": "code",
      "source": [
        "# Define el nombre de tu archivo Parquet\n",
        "nombre_archivo = 'bakery_sales_bronze.parquet'\n",
        "full_path = os.path.join('/content/bronze', nombre_archivo)\n",
        "print(full_path)\n"
      ],
      "metadata": {
        "colab": {
          "base_uri": "https://localhost:8080/"
        },
        "id": "iZcyF7jLIJHa",
        "outputId": "82bef01f-4acd-40da-9267-c20b50d7e0c1"
      },
      "execution_count": 66,
      "outputs": [
        {
          "output_type": "stream",
          "name": "stdout",
          "text": [
            "/content/bronze/bakery_sales_bronze.parquet\n"
          ]
        }
      ]
    },
    {
      "cell_type": "code",
      "source": [
        "# Guarda el DataFrame en formato Parquet\n",
        "# index=False es importante para no guardar el índice del DataFrame como una columna\n",
        "df_final.to_parquet(full_path, index=False)\n",
        "\n",
        "print(f\"\\nDataFrame 'df_final' guardado exitosamente en la capa Bronze como: {full_path}\")\n",
        "print(\"Puedes verificarlo en tu Google Drive en esa ruta.\")"
      ],
      "metadata": {
        "colab": {
          "base_uri": "https://localhost:8080/"
        },
        "id": "qcGNSKqwJwOx",
        "outputId": "8e5b9357-536c-4773-d760-06345f5de1b8",
        "collapsed": true
      },
      "execution_count": 67,
      "outputs": [
        {
          "output_type": "stream",
          "name": "stdout",
          "text": [
            "\n",
            "DataFrame 'df_final' guardado exitosamente en la capa Bronze como: /content/bronze/bakery_sales_bronze.parquet\n",
            "Puedes verificarlo en tu Google Drive en esa ruta.\n"
          ]
        }
      ]
    },
    {
      "cell_type": "code",
      "source": [
        "df_leido = pd.read_parquet('/content/bronze/bakery_sales_bronze.parquet')\n",
        "\n",
        "print(f\"\\nDataFrame leído de 'bakery_sales_bronze.parquet':\")\n",
        "print(df_leido.head())"
      ],
      "metadata": {
        "colab": {
          "base_uri": "https://localhost:8080/"
        },
        "collapsed": true,
        "id": "L7j__YYNPvOz",
        "outputId": "d73437e8-874e-4a79-ae75-3562baca607f"
      },
      "execution_count": 68,
      "outputs": [
        {
          "output_type": "stream",
          "name": "stdout",
          "text": [
            "\n",
            "DataFrame leído de 'bakery_sales_bronze.parquet':\n",
            "   TransactionNo          Items             DateTime  Daypart  DayType  \\\n",
            "0              1          Bread  2016-10-30 09:58:11  Morning  Weekend   \n",
            "1              2   Scandinavian  2016-10-30 10:05:34  Morning  Weekend   \n",
            "2              2   Scandinavian  2016-10-30 10:05:34  Morning  Weekend   \n",
            "3              3  Hot chocolate  2016-10-30 10:07:57  Morning  Weekend   \n",
            "4              3            Jam  2016-10-30 10:07:57  Morning  Weekend   \n",
            "\n",
            "   ID_Tienda_Aleatoria  store_id                                store_name  \\\n",
            "0                 2122      2122                     Tienda 2122 - Cáceres   \n",
            "1                 2883      2883                   Tienda 2883 - Santander   \n",
            "2                 2484      2484  Tienda 2484 - Las Palmas de Gran Canaria   \n",
            "3                 1461      1461                      Tienda 1461 - Girona   \n",
            "4                 1530      1530                  Tienda 1530 - Pontevedra   \n",
            "\n",
            "                         city    region opening_date  Cantidad  \\\n",
            "0                     Cáceres   Levante   2017-10-20         1   \n",
            "1                   Santander   Levante   2025-02-28         1   \n",
            "2  Las Palmas de Gran Canaria  Noroeste   2016-11-26         4   \n",
            "3                      Girona    Centro   2016-12-06         4   \n",
            "4                  Pontevedra   Levante   2016-02-19         2   \n",
            "\n",
            "   Precio_Unitario  Total_Producto  \n",
            "0            13.05           13.05  \n",
            "1             1.02            1.02  \n",
            "2             4.01           16.04  \n",
            "3             6.23           24.92  \n",
            "4             3.15            6.30  \n"
          ]
        }
      ]
    },
    {
      "cell_type": "markdown",
      "source": [
        "# ***CAPA PLATA DONDE VAN LAS DIMENSIONES ***"
      ],
      "metadata": {
        "id": "JbpZ_Ou_ISZ6"
      }
    },
    {
      "cell_type": "code",
      "source": [
        "os.makedirs('plata', exist_ok=True)\n",
        "fake = Faker()\n"
      ],
      "metadata": {
        "id": "OsjOj9ES0sw5"
      },
      "execution_count": 69,
      "outputs": []
    },
    {
      "cell_type": "code",
      "source": [
        "df_leido = pd.read_parquet('/content/bronze/bakery_sales_bronze.parquet')\n",
        "\n",
        "print(f\"\\nDataFrame leído de 'bakery_sales_bronze.parquet':\")\n",
        "\n",
        "\n",
        "print(df_leido.head())\n"
      ],
      "metadata": {
        "colab": {
          "base_uri": "https://localhost:8080/"
        },
        "collapsed": true,
        "id": "udG6OuFPIZDC",
        "outputId": "503417c2-fe80-4ce7-ba56-20442e7a87a4"
      },
      "execution_count": 70,
      "outputs": [
        {
          "output_type": "stream",
          "name": "stdout",
          "text": [
            "\n",
            "DataFrame leído de 'bakery_sales_bronze.parquet':\n",
            "   TransactionNo          Items             DateTime  Daypart  DayType  \\\n",
            "0              1          Bread  2016-10-30 09:58:11  Morning  Weekend   \n",
            "1              2   Scandinavian  2016-10-30 10:05:34  Morning  Weekend   \n",
            "2              2   Scandinavian  2016-10-30 10:05:34  Morning  Weekend   \n",
            "3              3  Hot chocolate  2016-10-30 10:07:57  Morning  Weekend   \n",
            "4              3            Jam  2016-10-30 10:07:57  Morning  Weekend   \n",
            "\n",
            "   ID_Tienda_Aleatoria  store_id                                store_name  \\\n",
            "0                 2122      2122                     Tienda 2122 - Cáceres   \n",
            "1                 2883      2883                   Tienda 2883 - Santander   \n",
            "2                 2484      2484  Tienda 2484 - Las Palmas de Gran Canaria   \n",
            "3                 1461      1461                      Tienda 1461 - Girona   \n",
            "4                 1530      1530                  Tienda 1530 - Pontevedra   \n",
            "\n",
            "                         city    region opening_date  Cantidad  \\\n",
            "0                     Cáceres   Levante   2017-10-20         1   \n",
            "1                   Santander   Levante   2025-02-28         1   \n",
            "2  Las Palmas de Gran Canaria  Noroeste   2016-11-26         4   \n",
            "3                      Girona    Centro   2016-12-06         4   \n",
            "4                  Pontevedra   Levante   2016-02-19         2   \n",
            "\n",
            "   Precio_Unitario  Total_Producto  \n",
            "0            13.05           13.05  \n",
            "1             1.02            1.02  \n",
            "2             4.01           16.04  \n",
            "3             6.23           24.92  \n",
            "4             3.15            6.30  \n"
          ]
        }
      ]
    },
    {
      "cell_type": "code",
      "source": [
        "# Obtener la fecha mínima y máxima de tus datos transaccionales.\n",
        "# Asegúrate de que la columna 'DateTime' sea de tipo datetime.\n",
        "# Si df_final['DateTime'] no es datetime, conviértela explícitamente.\n",
        "if not pd.api.types.is_datetime64_any_dtype(df_final['DateTime']):\n",
        "    df_final['DateTime'] = pd.to_datetime(df_final['DateTime'])\n",
        "\n",
        "# Obtener la fecha mínima y máxima de tus datos transaccionales.\n",
        "min_date_data = df_final['DateTime'].min()\n",
        "max_date_data = df_final['DateTime'].max()\n",
        "\n",
        "# Establecer el inicio y fin del rango de la DimFecha.\n",
        "start_date_dim = min_date_data.floor('D')\n",
        "end_date_dim = max_date_data.ceil('D')\n",
        "\n",
        "# Generar el rango completo de fechas, día a día (freq='D')\n",
        "date_range = pd.date_range(start=start_date_dim, end=end_date_dim, freq='D')\n",
        "\n",
        "print(f\"  Fecha mínima en datos: {min_date_data.strftime('%Y-%m-%d %H:%M:%S')}\")\n",
        "print(f\"  Fecha máxima en datos: {max_date_data.strftime('%Y-%m-%d %H:%M:%S')}\")\n",
        "print(f\"  Rango de DimFecha generado de: {start_date_dim.strftime('%Y-%m-%d')} a {end_date_dim.strftime('%Y-%m-%d')}\")\n",
        "print(f\"  Número de días en el rango: {len(date_range)}\")\n",
        "print(\"-\" * 70)\n",
        "\n",
        "\n",
        "# --- PASO 2: Crear el DataFrame Base de DimFecha ---\n",
        "print(\"PASO 2: Creando el DataFrame base de DimFecha...\")\n",
        "\n",
        "# Inicializar el DataFrame con la columna 'Fecha_Completa'\n",
        "dim_fecha = pd.DataFrame({'Fecha_Completa': date_range})\n",
        "\n",
        "print(\"  DataFrame base de DimFecha creado con la columna 'Fecha_Completa'.\")\n",
        "print(dim_fecha.head())\n",
        "print(\"-\" * 70)\n",
        "\n",
        "\n",
        "# --- PASO 3: Calcular y Añadir los Atributos Temporales ---\n",
        "print(\"PASO 3: Calculando y añadiendo los atributos temporales a DimFecha...\")\n",
        "\n",
        "# 3.1. Fecha_ID (Clave Primaria): Formato YYYYMMDD (ej. 20240520)\n",
        "# Este formato entero es eficiente para uniones y almacenamiento.\n",
        "dim_fecha['Fecha_ID'] = dim_fecha['Fecha_Completa'].dt.strftime('%Y%m%d').astype(int)\n",
        "print(\"  - 'Fecha_ID' calculada.\")\n",
        "\n",
        "# 3.2. Atributos Básicos de Fecha\n",
        "dim_fecha['Anio'] = dim_fecha['Fecha_Completa'].dt.year\n",
        "dim_fecha['Mes'] = dim_fecha['Fecha_Completa'].dt.month\n",
        "dim_fecha['Dia'] = dim_fecha['Fecha_Completa'].dt.day\n",
        "print(\"  - 'Anio', 'Mes', 'Dia' calculados.\")\n",
        "\n",
        "# 3.3. Nombres de Mes y Día de la Semana\n",
        "dim_fecha['Nombre_Mes'] = dim_fecha['Fecha_Completa'].dt.strftime('%B').str.capitalize() # Nombre completo del mes (ej. 'Mayo')\n",
        "dim_fecha['Nombre_Dia_Semana'] = dim_fecha['Fecha_Completa'].dt.strftime('%A').str.capitalize() # Nombre completo del día de la semana (ej. 'Martes')\n",
        "print(\"  - 'Nombre_Mes', 'Nombre_Dia_Semana' calculados.\")\n",
        "\n",
        "# 3.4. Día de la Semana (Numérico)\n",
        "# .dt.dayofweek devuelve 0 para Lunes y 6 para Domingo. Sumamos 1 para 1=Lunes, 7=Domingo.\n",
        "dim_fecha['Dia_de_la_Semana'] = dim_fecha['Fecha_Completa'].dt.dayofweek + 1\n",
        "print(\"  - 'Dia_de_la_Semana' calculada (1=Lunes, 7=Domingo).\")\n",
        "\n",
        "# 3.5. Semana del Año (ISO 8601)\n",
        "# .isocalendar().week devuelve el número de semana ISO.\n",
        "dim_fecha['Semana_del_Anio'] = dim_fecha['Fecha_Completa'].dt.isocalendar().week.astype(int)\n",
        "print(\"  - 'Semana_del_Anio' calculada.\")\n",
        "\n",
        "# 3.6. Trimestre y Nombre del Trimestre\n",
        "dim_fecha['Trimestre'] = dim_fecha['Fecha_Completa'].dt.quarter\n",
        "dim_fecha['Nombre_Trimestre'] = 'Q' + dim_fecha['Trimestre'].astype(str) + '-' + dim_fecha['Anio'].astype(str)\n",
        "print(\"  - 'Trimestre', 'Nombre_Trimestre' calculados.\")\n",
        "\n",
        "# 3.7. Indicadores Booleanos (Fin de Semana / Día Laboral)\n",
        "# .dt.weekday devuelve 0=Lunes, 1=Martes,..., 4=Viernes, 5=Sábado, 6=Domingo\n",
        "dim_fecha['Es_Fin_De_Semana'] = dim_fecha['Fecha_Completa'].dt.weekday.isin([5, 6])\n",
        "dim_fecha['Es_Dia_Laboral'] = ~dim_fecha['Es_Fin_De_Semana'] # Es lo opuesto a 'Es_Fin_De_Semana'\n",
        "print(\"  - 'Es_Fin_De_Semana', 'Es_Dia_Laboral' calculados.\")\n",
        "\n",
        "# 3.8. Más Atributos Opcionales (puedes añadir o modificar según tus necesidades)\n",
        "# dim_fecha['Dia_del_Anio'] = dim_fecha['Fecha_Completa'].dt.dayofyear # Día del año (1-366)\n",
        "# dim_fecha['Nombre_Corta_Mes'] = dim_fecha['Fecha_Completa'].dt.strftime('%b') # Ej. 'Jan'\n",
        "# dim_fecha['Inicio_Semana'] = dim_fecha['Fecha_Completa'].dt.to_period('W').start_time\n",
        "# dim_fecha['Inicio_Mes'] = dim_fecha['Fecha_Completa'].dt.to_period('M').start_time\n",
        "# dim_fecha['Inicio_Trimestre'] = dim_fecha['Fecha_Completa'].dt.to_period('Q').start_time\n",
        "# dim_fecha['Inicio_Anio'] = dim_fecha['Fecha_Completa'].dt.to_period('Y').start_time\n",
        "\n",
        "print(\"\\nVista previa de DimFecha con todos los atributos:\")\n",
        "print(dim_fecha.head())\n",
        "print(dim_fecha.tail())\n",
        "print(f\"  Número total de filas en DimFecha: {len(dim_fecha)}\")\n",
        "print(\"-\" * 70)\n",
        "\n",
        "\n",
        "# --- PASO 4: Seleccionar y Reordenar Columnas (Buena Práctica) ---\n",
        "print(\"PASO 4: Seleccionando y reordenando las columnas finales de DimFecha...\")\n",
        "\n",
        "# Define el orden deseado de las columnas\n",
        "column_order = [\n",
        "    'Fecha_ID',\n",
        "    'Fecha_Completa',\n",
        "    'Anio',\n",
        "    'Mes',\n",
        "    'Nombre_Mes',\n",
        "    'Dia',\n",
        "    'Dia_de_la_Semana',\n",
        "    'Nombre_Dia_Semana',\n",
        "    'Semana_del_Anio',\n",
        "    'Trimestre',\n",
        "    'Nombre_Trimestre',\n",
        "    'Es_Fin_De_Semana',\n",
        "    'Es_Dia_Laboral'\n",
        "]\n",
        "\n",
        "# Aplica el orden al DataFrame\n",
        "dim_fecha = dim_fecha[column_order]\n",
        "\n",
        "print(\"  Columnas finales de DimFecha reordenadas.\")\n",
        "print(\"\\nDimFecha final:\")\n",
        "print(dim_fecha.head())\n",
        "print(f\"\\nInformación del DataFrame DimFecha (tipos de datos y nulos):\")\n",
        "dim_fecha.info()\n",
        "print(\"-\" * 70)"
      ],
      "metadata": {
        "colab": {
          "base_uri": "https://localhost:8080/"
        },
        "id": "g52X127fVQAs",
        "outputId": "3f22ac0b-3dc1-4864-e9c3-459cfcc37f14"
      },
      "execution_count": 71,
      "outputs": [
        {
          "output_type": "stream",
          "name": "stdout",
          "text": [
            "  Fecha mínima en datos: 2016-01-11 07:51:20\n",
            "  Fecha máxima en datos: 2017-12-03 16:28:00\n",
            "  Rango de DimFecha generado de: 2016-01-11 a 2017-12-04\n",
            "  Número de días en el rango: 694\n",
            "----------------------------------------------------------------------\n",
            "PASO 2: Creando el DataFrame base de DimFecha...\n",
            "  DataFrame base de DimFecha creado con la columna 'Fecha_Completa'.\n",
            "  Fecha_Completa\n",
            "0     2016-01-11\n",
            "1     2016-01-12\n",
            "2     2016-01-13\n",
            "3     2016-01-14\n",
            "4     2016-01-15\n",
            "----------------------------------------------------------------------\n",
            "PASO 3: Calculando y añadiendo los atributos temporales a DimFecha...\n",
            "  - 'Fecha_ID' calculada.\n",
            "  - 'Anio', 'Mes', 'Dia' calculados.\n",
            "  - 'Nombre_Mes', 'Nombre_Dia_Semana' calculados.\n",
            "  - 'Dia_de_la_Semana' calculada (1=Lunes, 7=Domingo).\n",
            "  - 'Semana_del_Anio' calculada.\n",
            "  - 'Trimestre', 'Nombre_Trimestre' calculados.\n",
            "  - 'Es_Fin_De_Semana', 'Es_Dia_Laboral' calculados.\n",
            "\n",
            "Vista previa de DimFecha con todos los atributos:\n",
            "  Fecha_Completa  Fecha_ID  Anio  Mes  Dia Nombre_Mes Nombre_Dia_Semana  \\\n",
            "0     2016-01-11  20160111  2016    1   11    January            Monday   \n",
            "1     2016-01-12  20160112  2016    1   12    January           Tuesday   \n",
            "2     2016-01-13  20160113  2016    1   13    January         Wednesday   \n",
            "3     2016-01-14  20160114  2016    1   14    January          Thursday   \n",
            "4     2016-01-15  20160115  2016    1   15    January            Friday   \n",
            "\n",
            "   Dia_de_la_Semana  Semana_del_Anio  Trimestre Nombre_Trimestre  \\\n",
            "0                 1                2          1          Q1-2016   \n",
            "1                 2                2          1          Q1-2016   \n",
            "2                 3                2          1          Q1-2016   \n",
            "3                 4                2          1          Q1-2016   \n",
            "4                 5                2          1          Q1-2016   \n",
            "\n",
            "   Es_Fin_De_Semana  Es_Dia_Laboral  \n",
            "0             False            True  \n",
            "1             False            True  \n",
            "2             False            True  \n",
            "3             False            True  \n",
            "4             False            True  \n",
            "    Fecha_Completa  Fecha_ID  Anio  Mes  Dia Nombre_Mes Nombre_Dia_Semana  \\\n",
            "689     2017-11-30  20171130  2017   11   30   November          Thursday   \n",
            "690     2017-12-01  20171201  2017   12    1   December            Friday   \n",
            "691     2017-12-02  20171202  2017   12    2   December          Saturday   \n",
            "692     2017-12-03  20171203  2017   12    3   December            Sunday   \n",
            "693     2017-12-04  20171204  2017   12    4   December            Monday   \n",
            "\n",
            "     Dia_de_la_Semana  Semana_del_Anio  Trimestre Nombre_Trimestre  \\\n",
            "689                 4               48          4          Q4-2017   \n",
            "690                 5               48          4          Q4-2017   \n",
            "691                 6               48          4          Q4-2017   \n",
            "692                 7               48          4          Q4-2017   \n",
            "693                 1               49          4          Q4-2017   \n",
            "\n",
            "     Es_Fin_De_Semana  Es_Dia_Laboral  \n",
            "689             False            True  \n",
            "690             False            True  \n",
            "691              True           False  \n",
            "692              True           False  \n",
            "693             False            True  \n",
            "  Número total de filas en DimFecha: 694\n",
            "----------------------------------------------------------------------\n",
            "PASO 4: Seleccionando y reordenando las columnas finales de DimFecha...\n",
            "  Columnas finales de DimFecha reordenadas.\n",
            "\n",
            "DimFecha final:\n",
            "   Fecha_ID Fecha_Completa  Anio  Mes Nombre_Mes  Dia  Dia_de_la_Semana  \\\n",
            "0  20160111     2016-01-11  2016    1    January   11                 1   \n",
            "1  20160112     2016-01-12  2016    1    January   12                 2   \n",
            "2  20160113     2016-01-13  2016    1    January   13                 3   \n",
            "3  20160114     2016-01-14  2016    1    January   14                 4   \n",
            "4  20160115     2016-01-15  2016    1    January   15                 5   \n",
            "\n",
            "  Nombre_Dia_Semana  Semana_del_Anio  Trimestre Nombre_Trimestre  \\\n",
            "0            Monday                2          1          Q1-2016   \n",
            "1           Tuesday                2          1          Q1-2016   \n",
            "2         Wednesday                2          1          Q1-2016   \n",
            "3          Thursday                2          1          Q1-2016   \n",
            "4            Friday                2          1          Q1-2016   \n",
            "\n",
            "   Es_Fin_De_Semana  Es_Dia_Laboral  \n",
            "0             False            True  \n",
            "1             False            True  \n",
            "2             False            True  \n",
            "3             False            True  \n",
            "4             False            True  \n",
            "\n",
            "Información del DataFrame DimFecha (tipos de datos y nulos):\n",
            "<class 'pandas.core.frame.DataFrame'>\n",
            "RangeIndex: 694 entries, 0 to 693\n",
            "Data columns (total 13 columns):\n",
            " #   Column             Non-Null Count  Dtype         \n",
            "---  ------             --------------  -----         \n",
            " 0   Fecha_ID           694 non-null    int64         \n",
            " 1   Fecha_Completa     694 non-null    datetime64[ns]\n",
            " 2   Anio               694 non-null    int32         \n",
            " 3   Mes                694 non-null    int32         \n",
            " 4   Nombre_Mes         694 non-null    object        \n",
            " 5   Dia                694 non-null    int32         \n",
            " 6   Dia_de_la_Semana   694 non-null    int32         \n",
            " 7   Nombre_Dia_Semana  694 non-null    object        \n",
            " 8   Semana_del_Anio    694 non-null    int64         \n",
            " 9   Trimestre          694 non-null    int32         \n",
            " 10  Nombre_Trimestre   694 non-null    object        \n",
            " 11  Es_Fin_De_Semana   694 non-null    bool          \n",
            " 12  Es_Dia_Laboral     694 non-null    bool          \n",
            "dtypes: bool(2), datetime64[ns](1), int32(5), int64(2), object(3)\n",
            "memory usage: 47.6+ KB\n",
            "----------------------------------------------------------------------\n"
          ]
        }
      ]
    },
    {
      "cell_type": "code",
      "source": [
        "# Define el nombre de tu archivo Parquet\n",
        "nombre_archivo1 = 'dimension_fecha_plata.parquet'\n",
        "full_path = os.path.join('/content/plata', nombre_archivo1)\n",
        "print(full_path)\n"
      ],
      "metadata": {
        "colab": {
          "base_uri": "https://localhost:8080/"
        },
        "id": "LLuucRhVM8Tk",
        "outputId": "0626600b-e040-48f2-eb03-9f5bfb8d6ae3"
      },
      "execution_count": 72,
      "outputs": [
        {
          "output_type": "stream",
          "name": "stdout",
          "text": [
            "/content/plata/dimension_fecha_plata.parquet\n"
          ]
        }
      ]
    },
    {
      "cell_type": "code",
      "source": [
        "# Guarda el DataFrame en formato Parquet\n",
        "# index=False es importante para no guardar el índice del DataFrame como una columna\n",
        "dim_fecha.to_parquet(full_path, index=False)\n",
        "\n",
        "print(f\"\\nDataFrame guardado exitosamente en la capa Plata como: {full_path}\")\n",
        "print(\"Puedes verificarlo en tu Google Drive en esa ruta.\")"
      ],
      "metadata": {
        "colab": {
          "base_uri": "https://localhost:8080/"
        },
        "id": "upH6xLxBPjoC",
        "outputId": "a0011e0e-5e36-4706-af91-c1773ab10afd"
      },
      "execution_count": 73,
      "outputs": [
        {
          "output_type": "stream",
          "name": "stdout",
          "text": [
            "\n",
            "DataFrame guardado exitosamente en la capa Plata como: /content/plata/dimension_fecha_plata.parquet\n",
            "Puedes verificarlo en tu Google Drive en esa ruta.\n"
          ]
        }
      ]
    },
    {
      "cell_type": "code",
      "source": [
        "df_leido1 = pd.read_parquet('/content/plata/dimension_fecha_plata.parquet')\n",
        "\n",
        "print(f\"\\nDataFrame leído de 'bakery_sales_bronze.parquet':\")\n",
        "print(df_leido1.head())"
      ],
      "metadata": {
        "colab": {
          "base_uri": "https://localhost:8080/"
        },
        "id": "U9zALE0HW1d_",
        "outputId": "1212d2b8-714c-4743-8497-1578a30c8b2d"
      },
      "execution_count": 74,
      "outputs": [
        {
          "output_type": "stream",
          "name": "stdout",
          "text": [
            "\n",
            "DataFrame leído de 'bakery_sales_bronze.parquet':\n",
            "   Fecha_ID Fecha_Completa  Anio  Mes Nombre_Mes  Dia  Dia_de_la_Semana  \\\n",
            "0  20160111     2016-01-11  2016    1    January   11                 1   \n",
            "1  20160112     2016-01-12  2016    1    January   12                 2   \n",
            "2  20160113     2016-01-13  2016    1    January   13                 3   \n",
            "3  20160114     2016-01-14  2016    1    January   14                 4   \n",
            "4  20160115     2016-01-15  2016    1    January   15                 5   \n",
            "\n",
            "  Nombre_Dia_Semana  Semana_del_Anio  Trimestre Nombre_Trimestre  \\\n",
            "0            Monday                2          1          Q1-2016   \n",
            "1           Tuesday                2          1          Q1-2016   \n",
            "2         Wednesday                2          1          Q1-2016   \n",
            "3          Thursday                2          1          Q1-2016   \n",
            "4            Friday                2          1          Q1-2016   \n",
            "\n",
            "   Es_Fin_De_Semana  Es_Dia_Laboral  \n",
            "0             False            True  \n",
            "1             False            True  \n",
            "2             False            True  \n",
            "3             False            True  \n",
            "4             False            True  \n"
          ]
        }
      ]
    },
    {
      "cell_type": "markdown",
      "source": [
        "Dimension Producto"
      ],
      "metadata": {
        "id": "iym0bA17XYSi"
      }
    },
    {
      "cell_type": "code",
      "source": [
        "df_leido = pd.read_parquet('/content/bronze/bakery_sales_bronze.parquet')\n",
        "\n",
        "print(f\"\\nDataFrame leído de 'bakery_sales_bronze.parquet':\")\n",
        "\n",
        "\n",
        "print(df_leido.head())"
      ],
      "metadata": {
        "colab": {
          "base_uri": "https://localhost:8080/"
        },
        "id": "pBCRGQlOXQk9",
        "outputId": "27e1095f-eb8c-444a-be61-3a7db17d3cb1"
      },
      "execution_count": 75,
      "outputs": [
        {
          "output_type": "stream",
          "name": "stdout",
          "text": [
            "\n",
            "DataFrame leído de 'bakery_sales_bronze.parquet':\n",
            "   TransactionNo          Items             DateTime  Daypart  DayType  \\\n",
            "0              1          Bread  2016-10-30 09:58:11  Morning  Weekend   \n",
            "1              2   Scandinavian  2016-10-30 10:05:34  Morning  Weekend   \n",
            "2              2   Scandinavian  2016-10-30 10:05:34  Morning  Weekend   \n",
            "3              3  Hot chocolate  2016-10-30 10:07:57  Morning  Weekend   \n",
            "4              3            Jam  2016-10-30 10:07:57  Morning  Weekend   \n",
            "\n",
            "   ID_Tienda_Aleatoria  store_id                                store_name  \\\n",
            "0                 2122      2122                     Tienda 2122 - Cáceres   \n",
            "1                 2883      2883                   Tienda 2883 - Santander   \n",
            "2                 2484      2484  Tienda 2484 - Las Palmas de Gran Canaria   \n",
            "3                 1461      1461                      Tienda 1461 - Girona   \n",
            "4                 1530      1530                  Tienda 1530 - Pontevedra   \n",
            "\n",
            "                         city    region opening_date  Cantidad  \\\n",
            "0                     Cáceres   Levante   2017-10-20         1   \n",
            "1                   Santander   Levante   2025-02-28         1   \n",
            "2  Las Palmas de Gran Canaria  Noroeste   2016-11-26         4   \n",
            "3                      Girona    Centro   2016-12-06         4   \n",
            "4                  Pontevedra   Levante   2016-02-19         2   \n",
            "\n",
            "   Precio_Unitario  Total_Producto  \n",
            "0            13.05           13.05  \n",
            "1             1.02            1.02  \n",
            "2             4.01           16.04  \n",
            "3             6.23           24.92  \n",
            "4             3.15            6.30  \n"
          ]
        }
      ]
    },
    {
      "cell_type": "code",
      "source": [
        "\n",
        "print(\"Obteniendo la Dimensión Producto...\")\n",
        "df_dim_products = generate_products_data_custom(NUM_PRODUCTOS_OBJETIVO, fake)"
      ],
      "metadata": {
        "colab": {
          "base_uri": "https://localhost:8080/"
        },
        "id": "lTa15M8ug5Bx",
        "outputId": "7230b7ec-1406-499d-ad16-4556f91f563c"
      },
      "execution_count": 76,
      "outputs": [
        {
          "output_type": "stream",
          "name": "stdout",
          "text": [
            "Obteniendo la Dimensión Producto...\n",
            "Generando datos para DimProducto (200 productos, incluyendo clasificación de pan)...\n",
            "Datos de productos generados: 200 registros.\n"
          ]
        }
      ]
    },
    {
      "cell_type": "code",
      "source": [
        "print(\"\\n--- DataFrame de la Dimensión Producto (Columnas solicitadas) ---\")\n",
        "\n",
        "# Seleccionar las columnas usando sus nombres CORRECTOS de df_dim_products\n",
        "# product_name en lugar de 'nombre'\n",
        "# category en lugar de 'categoria'\n",
        "# price en lugar de 'precio'\n",
        "df_display = df_dim_products[['product_id', 'product_name', 'category', 'price']].copy()\n",
        "\n",
        "# Ahora sí, renombrar las columnas según la solicitud del usuario\n",
        "df_display.rename(columns={\n",
        "    'product_id': 'ID_Producto',\n",
        "    'product_name': 'Nombre_Producto',\n",
        "    'category': 'Clasificacion_Producto',\n",
        "    'price': 'Precio_Base'\n",
        "}, inplace=True)\n",
        "\n",
        "print(df_display.head())\n",
        "print(f\"\\nNúmero total de productos en la dimensión: {len(df_display)}\")\n",
        "print(\"\\nColumnas y tipos de datos:\")\n",
        "df_display.info()\n",
        "print(\"-\" * 60)"
      ],
      "metadata": {
        "colab": {
          "base_uri": "https://localhost:8080/"
        },
        "collapsed": true,
        "id": "SkkB-HgPlV0o",
        "outputId": "033e501e-599b-4187-a3fb-9309b1c4b514"
      },
      "execution_count": 77,
      "outputs": [
        {
          "output_type": "stream",
          "name": "stdout",
          "text": [
            "\n",
            "--- DataFrame de la Dimensión Producto (Columnas solicitadas) ---\n",
            "   ID_Producto    Nombre_Producto Clasificacion_Producto  Precio_Base\n",
            "0            1   Sopa de verduras                 Salado        30.56\n",
            "1            2     Huevo revuelto             Repostería        12.66\n",
            "2            3  Necessary Gen 173        Bebida Caliente        16.77\n",
            "3            4        Flan casero                 Salado         5.31\n",
            "4            5      Police Gen 88             Repostería        14.28\n",
            "\n",
            "Número total de productos en la dimensión: 200\n",
            "\n",
            "Columnas y tipos de datos:\n",
            "<class 'pandas.core.frame.DataFrame'>\n",
            "RangeIndex: 200 entries, 0 to 199\n",
            "Data columns (total 4 columns):\n",
            " #   Column                  Non-Null Count  Dtype  \n",
            "---  ------                  --------------  -----  \n",
            " 0   ID_Producto             200 non-null    int64  \n",
            " 1   Nombre_Producto         200 non-null    object \n",
            " 2   Clasificacion_Producto  200 non-null    object \n",
            " 3   Precio_Base             200 non-null    float64\n",
            "dtypes: float64(1), int64(1), object(2)\n",
            "memory usage: 6.4+ KB\n",
            "------------------------------------------------------------\n"
          ]
        }
      ]
    },
    {
      "cell_type": "code",
      "source": [
        "# Define el nombre de tu archivo Parquet\n",
        "nombre_archivo2 = 'dimension_producto_plata.parquet'\n",
        "full_path = os.path.join('/content/plata', nombre_archivo2)\n",
        "print(full_path)\n"
      ],
      "metadata": {
        "colab": {
          "base_uri": "https://localhost:8080/"
        },
        "id": "PjfdTckigxQI",
        "outputId": "02d761e8-fe36-4aba-efa2-75bde15db792"
      },
      "execution_count": 78,
      "outputs": [
        {
          "output_type": "stream",
          "name": "stdout",
          "text": [
            "/content/plata/dimension_producto_plata.parquet\n"
          ]
        }
      ]
    },
    {
      "cell_type": "code",
      "source": [
        "# Guarda el DataFrame en formato Parquet\n",
        "# index=False es importante para no guardar el índice del DataFrame como una columna\n",
        "df_display.to_parquet(full_path, index=False)\n",
        "\n",
        "print(f\"\\nDataFrame guardado exitosamente en la capa Plata como: {full_path}\")\n",
        "print(\"Puedes verificarlo en tu Google Drive en esa ruta.\")"
      ],
      "metadata": {
        "colab": {
          "base_uri": "https://localhost:8080/"
        },
        "id": "CwRFQIVbmIW-",
        "outputId": "fb0abf91-ba38-4b13-859e-4650e4e1a3cd"
      },
      "execution_count": 79,
      "outputs": [
        {
          "output_type": "stream",
          "name": "stdout",
          "text": [
            "\n",
            "DataFrame guardado exitosamente en la capa Plata como: /content/plata/dimension_producto_plata.parquet\n",
            "Puedes verificarlo en tu Google Drive en esa ruta.\n"
          ]
        }
      ]
    },
    {
      "cell_type": "code",
      "source": [
        "df_leido2 = pd.read_parquet('/content/plata/dimension_producto_plata.parquet')\n",
        "\n",
        "print(f\"\\nDataFrame leído :\")\n",
        "print(df_leido2.head())"
      ],
      "metadata": {
        "colab": {
          "base_uri": "https://localhost:8080/"
        },
        "collapsed": true,
        "id": "k11Edslxmjf7",
        "outputId": "11e6a5de-1134-45e3-e1d5-b6f68733ba7d"
      },
      "execution_count": 80,
      "outputs": [
        {
          "output_type": "stream",
          "name": "stdout",
          "text": [
            "\n",
            "DataFrame leído :\n",
            "   ID_Producto    Nombre_Producto Clasificacion_Producto  Precio_Base\n",
            "0            1   Sopa de verduras                 Salado        30.56\n",
            "1            2     Huevo revuelto             Repostería        12.66\n",
            "2            3  Necessary Gen 173        Bebida Caliente        16.77\n",
            "3            4        Flan casero                 Salado         5.31\n",
            "4            5      Police Gen 88             Repostería        14.28\n"
          ]
        }
      ]
    },
    {
      "cell_type": "markdown",
      "source": [
        "DIMENSIONN TIENDA"
      ],
      "metadata": {
        "id": "UBmGt6O9oAde"
      }
    },
    {
      "cell_type": "code",
      "source": [
        "df_leido = pd.read_parquet('/content/bronze/bakery_sales_bronze.parquet')\n",
        "\n",
        "print(f\"\\nDataFrame leído de 'bakery_sales_bronze.parquet':\")\n",
        "\n",
        "\n",
        "print(df_leido.head())"
      ],
      "metadata": {
        "colab": {
          "base_uri": "https://localhost:8080/"
        },
        "id": "kOjsmVI-oF4S",
        "outputId": "baccd0ca-85d4-4783-837b-c94b63e0cef2"
      },
      "execution_count": 81,
      "outputs": [
        {
          "output_type": "stream",
          "name": "stdout",
          "text": [
            "\n",
            "DataFrame leído de 'bakery_sales_bronze.parquet':\n",
            "   TransactionNo          Items             DateTime  Daypart  DayType  \\\n",
            "0              1          Bread  2016-10-30 09:58:11  Morning  Weekend   \n",
            "1              2   Scandinavian  2016-10-30 10:05:34  Morning  Weekend   \n",
            "2              2   Scandinavian  2016-10-30 10:05:34  Morning  Weekend   \n",
            "3              3  Hot chocolate  2016-10-30 10:07:57  Morning  Weekend   \n",
            "4              3            Jam  2016-10-30 10:07:57  Morning  Weekend   \n",
            "\n",
            "   ID_Tienda_Aleatoria  store_id                                store_name  \\\n",
            "0                 2122      2122                     Tienda 2122 - Cáceres   \n",
            "1                 2883      2883                   Tienda 2883 - Santander   \n",
            "2                 2484      2484  Tienda 2484 - Las Palmas de Gran Canaria   \n",
            "3                 1461      1461                      Tienda 1461 - Girona   \n",
            "4                 1530      1530                  Tienda 1530 - Pontevedra   \n",
            "\n",
            "                         city    region opening_date  Cantidad  \\\n",
            "0                     Cáceres   Levante   2017-10-20         1   \n",
            "1                   Santander   Levante   2025-02-28         1   \n",
            "2  Las Palmas de Gran Canaria  Noroeste   2016-11-26         4   \n",
            "3                      Girona    Centro   2016-12-06         4   \n",
            "4                  Pontevedra   Levante   2016-02-19         2   \n",
            "\n",
            "   Precio_Unitario  Total_Producto  \n",
            "0            13.05           13.05  \n",
            "1             1.02            1.02  \n",
            "2             4.01           16.04  \n",
            "3             6.23           24.92  \n",
            "4             3.15            6.30  \n"
          ]
        }
      ]
    },
    {
      "cell_type": "code",
      "source": [
        "dim_tienda_base = df_final[['store_id', 'store_name', 'city', 'region', 'opening_date']].drop_duplicates(subset=['store_id']).reset_index(drop=True)"
      ],
      "metadata": {
        "id": "Ksl3HVa7px_6"
      },
      "execution_count": 82,
      "outputs": []
    },
    {
      "cell_type": "code",
      "source": [
        "# Renombrar columnas para que coincidan con la convención de DimTienda\n",
        "dim_tienda_base = dim_tienda_base.rename(columns={\n",
        "    'store_id': 'Tienda_ID',\n",
        "    'store_name': 'Nombre_Tienda',\n",
        "    'city': 'Ciudad',\n",
        "    'region': 'Region_Geografica', # Renombramos para distinguirla del 'Estado' si es necesario\n",
        "    'opening_date': 'Fecha_Apertura'\n",
        "})\n",
        "\n",
        "print(\"  Datos únicos de tiendas extraídos:\")\n",
        "print(dim_tienda_base.head())\n",
        "print(f\"  Número de tiendas únicas encontradas: {len(dim_tienda_base)}\")\n",
        "print(\"-\" * 80)"
      ],
      "metadata": {
        "colab": {
          "base_uri": "https://localhost:8080/"
        },
        "id": "NkeLjf1rqC_y",
        "outputId": "23c2cdf9-3bef-4b54-a2d1-be4202e0aebe"
      },
      "execution_count": 83,
      "outputs": [
        {
          "output_type": "stream",
          "name": "stdout",
          "text": [
            "  Datos únicos de tiendas extraídos:\n",
            "   Tienda_ID                             Nombre_Tienda  \\\n",
            "0       2122                     Tienda 2122 - Cáceres   \n",
            "1       2883                   Tienda 2883 - Santander   \n",
            "2       2484  Tienda 2484 - Las Palmas de Gran Canaria   \n",
            "3       1461                      Tienda 1461 - Girona   \n",
            "4       1530                  Tienda 1530 - Pontevedra   \n",
            "\n",
            "                       Ciudad Region_Geografica Fecha_Apertura  \n",
            "0                     Cáceres           Levante     2017-10-20  \n",
            "1                   Santander           Levante     2025-02-28  \n",
            "2  Las Palmas de Gran Canaria          Noroeste     2016-11-26  \n",
            "3                      Girona            Centro     2016-12-06  \n",
            "4                  Pontevedra           Levante     2016-02-19  \n",
            "  Número de tiendas únicas encontradas: 3000\n",
            "--------------------------------------------------------------------------------\n"
          ]
        }
      ]
    },
    {
      "cell_type": "code",
      "source": [
        "\n",
        "# Mapeo simple de regiones a estados (ejemplo, ajusta según tu lógica)\n",
        "# Si 'region' ya representa el estado, puedes simplemente asignar:\n",
        "# dim_tienda_base['Estado'] = dim_tienda_base['Region_Geografica']\n",
        "\n",
        "# Si 'region' es más amplia (ej. 'Norte') y necesitas un 'Estado' más específico:\n",
        "# Puedes crear un mapeo más complejo o generar aleatoriamente.\n",
        "# Para este ejemplo, supondremos un mapeo simple basado en las regiones mostradas en tus datos\n",
        "region_to_estado_map = {\n",
        "    'Levante': 'Comunidad Valenciana',\n",
        "    'Aragón': 'Aragón',\n",
        "    'Castilla y Leon': 'Castilla y León',\n",
        "    'Centro': 'Comunidad de Madrid', # O Castilla-La Mancha, etc.\n",
        "    'Noroeste': 'Galicia', # O Asturias, Cantabria\n",
        "    'Norte': 'País Vasco', # O Cantabria, Asturias\n",
        "    'Andalucía': 'Andalucía'\n",
        "}\n",
        "dim_tienda_base['Estado'] = dim_tienda_base['Region_Geografica'].map(region_to_estado_map).fillna('Desconocido')\n",
        "\n",
        "print(\"  Columna 'Estado' añadida.\")\n",
        "print(dim_tienda_base.head())\n",
        "print(\"-\" * 80)"
      ],
      "metadata": {
        "colab": {
          "base_uri": "https://localhost:8080/"
        },
        "id": "OOg8q8uFqVg5",
        "outputId": "1a2db4e6-3f05-459b-e60e-db49f6bdcc97"
      },
      "execution_count": 84,
      "outputs": [
        {
          "output_type": "stream",
          "name": "stdout",
          "text": [
            "  Columna 'Estado' añadida.\n",
            "   Tienda_ID                             Nombre_Tienda  \\\n",
            "0       2122                     Tienda 2122 - Cáceres   \n",
            "1       2883                   Tienda 2883 - Santander   \n",
            "2       2484  Tienda 2484 - Las Palmas de Gran Canaria   \n",
            "3       1461                      Tienda 1461 - Girona   \n",
            "4       1530                  Tienda 1530 - Pontevedra   \n",
            "\n",
            "                       Ciudad Region_Geografica Fecha_Apertura  \\\n",
            "0                     Cáceres           Levante     2017-10-20   \n",
            "1                   Santander           Levante     2025-02-28   \n",
            "2  Las Palmas de Gran Canaria          Noroeste     2016-11-26   \n",
            "3                      Girona            Centro     2016-12-06   \n",
            "4                  Pontevedra           Levante     2016-02-19   \n",
            "\n",
            "                 Estado  \n",
            "0  Comunidad Valenciana  \n",
            "1  Comunidad Valenciana  \n",
            "2               Galicia  \n",
            "3   Comunidad de Madrid  \n",
            "4  Comunidad Valenciana  \n",
            "--------------------------------------------------------------------------------\n"
          ]
        }
      ]
    },
    {
      "cell_type": "code",
      "source": [
        "# --- PASO 3: Añadir la Columna 'Tipo_Tienda' (Generado Aleatoriamente) ---\n",
        "\n",
        "\n",
        "tipos_tienda_posibles = [\n",
        "    'Panadería Artesanal', 'Cafetería Especializada', 'Panadería Express',\n",
        "    'Boutique de Pan', 'Tienda de Conveniencia', 'Gourmet'\n",
        "]\n",
        "\n",
        "dim_tienda_base['Tipo_Tienda'] = [random.choice(tipos_tienda_posibles) for _ in range(len(dim_tienda_base))]\n",
        "\n",
        "print(\"  Columna 'Tipo_Tienda' añadida.\")\n",
        "print(dim_tienda_base.head())\n",
        "print(\"-\" * 80)"
      ],
      "metadata": {
        "colab": {
          "base_uri": "https://localhost:8080/"
        },
        "id": "eJorKu9eqXL7",
        "outputId": "17efed9b-b2fc-4047-9f4e-f3e720a3c83a"
      },
      "execution_count": 85,
      "outputs": [
        {
          "output_type": "stream",
          "name": "stdout",
          "text": [
            "  Columna 'Tipo_Tienda' añadida.\n",
            "   Tienda_ID                             Nombre_Tienda  \\\n",
            "0       2122                     Tienda 2122 - Cáceres   \n",
            "1       2883                   Tienda 2883 - Santander   \n",
            "2       2484  Tienda 2484 - Las Palmas de Gran Canaria   \n",
            "3       1461                      Tienda 1461 - Girona   \n",
            "4       1530                  Tienda 1530 - Pontevedra   \n",
            "\n",
            "                       Ciudad Region_Geografica Fecha_Apertura  \\\n",
            "0                     Cáceres           Levante     2017-10-20   \n",
            "1                   Santander           Levante     2025-02-28   \n",
            "2  Las Palmas de Gran Canaria          Noroeste     2016-11-26   \n",
            "3                      Girona            Centro     2016-12-06   \n",
            "4                  Pontevedra           Levante     2016-02-19   \n",
            "\n",
            "                 Estado             Tipo_Tienda  \n",
            "0  Comunidad Valenciana     Panadería Artesanal  \n",
            "1  Comunidad Valenciana         Boutique de Pan  \n",
            "2               Galicia                 Gourmet  \n",
            "3   Comunidad de Madrid  Tienda de Conveniencia  \n",
            "4  Comunidad Valenciana  Tienda de Conveniencia  \n",
            "--------------------------------------------------------------------------------\n"
          ]
        }
      ]
    },
    {
      "cell_type": "code",
      "source": [
        "\n",
        "column_order_dim_tienda = [\n",
        "    'Tienda_ID',\n",
        "    'Nombre_Tienda',\n",
        "    'Ciudad',\n",
        "    'Estado',        # Nueva columna\n",
        "    'Region_Geografica', # La columna 'region' original, renombrada\n",
        "    'Tipo_Tienda',   # Nueva columna\n",
        "    'Fecha_Apertura' # La columna 'opening_date' original\n",
        "]\n",
        "\n",
        "dim_tienda = dim_tienda_base[column_order_dim_tienda]\n",
        "print(\"\\nDimTienda final:\")\n",
        "print(dim_tienda.head())"
      ],
      "metadata": {
        "colab": {
          "base_uri": "https://localhost:8080/"
        },
        "collapsed": true,
        "id": "SsBSkXtVqh2s",
        "outputId": "64c6080c-82f1-486e-896f-f39f99f506de"
      },
      "execution_count": 86,
      "outputs": [
        {
          "output_type": "stream",
          "name": "stdout",
          "text": [
            "\n",
            "DimTienda final:\n",
            "   Tienda_ID                             Nombre_Tienda  \\\n",
            "0       2122                     Tienda 2122 - Cáceres   \n",
            "1       2883                   Tienda 2883 - Santander   \n",
            "2       2484  Tienda 2484 - Las Palmas de Gran Canaria   \n",
            "3       1461                      Tienda 1461 - Girona   \n",
            "4       1530                  Tienda 1530 - Pontevedra   \n",
            "\n",
            "                       Ciudad                Estado Region_Geografica  \\\n",
            "0                     Cáceres  Comunidad Valenciana           Levante   \n",
            "1                   Santander  Comunidad Valenciana           Levante   \n",
            "2  Las Palmas de Gran Canaria               Galicia          Noroeste   \n",
            "3                      Girona   Comunidad de Madrid            Centro   \n",
            "4                  Pontevedra  Comunidad Valenciana           Levante   \n",
            "\n",
            "              Tipo_Tienda Fecha_Apertura  \n",
            "0     Panadería Artesanal     2017-10-20  \n",
            "1         Boutique de Pan     2025-02-28  \n",
            "2                 Gourmet     2016-11-26  \n",
            "3  Tienda de Conveniencia     2016-12-06  \n",
            "4  Tienda de Conveniencia     2016-02-19  \n"
          ]
        }
      ]
    },
    {
      "cell_type": "code",
      "source": [
        "print(f\"\\nNúmero total de tiendas en DimTienda: {len(dim_tienda)}\")\n",
        "print(f\"Información de DimTienda: {dim_tienda.info()}\")\n",
        "print(\"-\" * 80)\n"
      ],
      "metadata": {
        "colab": {
          "base_uri": "https://localhost:8080/"
        },
        "collapsed": true,
        "id": "nzgdqbXTqu8Q",
        "outputId": "30f14dd1-6e2c-40ea-a648-b1256fda92c5"
      },
      "execution_count": 87,
      "outputs": [
        {
          "output_type": "stream",
          "name": "stdout",
          "text": [
            "\n",
            "Número total de tiendas en DimTienda: 3000\n",
            "<class 'pandas.core.frame.DataFrame'>\n",
            "RangeIndex: 3000 entries, 0 to 2999\n",
            "Data columns (total 7 columns):\n",
            " #   Column             Non-Null Count  Dtype \n",
            "---  ------             --------------  ----- \n",
            " 0   Tienda_ID          3000 non-null   int64 \n",
            " 1   Nombre_Tienda      3000 non-null   object\n",
            " 2   Ciudad             3000 non-null   object\n",
            " 3   Estado             3000 non-null   object\n",
            " 4   Region_Geografica  3000 non-null   object\n",
            " 5   Tipo_Tienda        3000 non-null   object\n",
            " 6   Fecha_Apertura     3000 non-null   object\n",
            "dtypes: int64(1), object(6)\n",
            "memory usage: 164.2+ KB\n",
            "Información de DimTienda: None\n",
            "--------------------------------------------------------------------------------\n"
          ]
        }
      ]
    },
    {
      "cell_type": "code",
      "source": [
        "# Define el nombre de tu archivo Parquet\n",
        "nombre_archivo3 = 'dimension_tienda_plata.parquet'\n",
        "full_path = os.path.join('/content/plata', nombre_archivo3)\n",
        "print(full_path)\n"
      ],
      "metadata": {
        "colab": {
          "base_uri": "https://localhost:8080/"
        },
        "id": "ogRhQnHOq1BQ",
        "outputId": "a11fc658-dd2b-49b3-d8a4-3151a920e4c1"
      },
      "execution_count": 88,
      "outputs": [
        {
          "output_type": "stream",
          "name": "stdout",
          "text": [
            "/content/plata/dimension_tienda_plata.parquet\n"
          ]
        }
      ]
    },
    {
      "cell_type": "code",
      "source": [
        "# Guarda el DataFrame en formato Parquet\n",
        "# index=False es importante para no guardar el índice del DataFrame como una columna\n",
        "dim_tienda.to_parquet(full_path, index=False)\n",
        "\n",
        "print(f\"\\nDataFrame guardado exitosamente en la capa Plata como: {full_path}\")\n",
        "print(\"Puedes verificarlo en tu Google Drive en esa ruta.\")"
      ],
      "metadata": {
        "colab": {
          "base_uri": "https://localhost:8080/"
        },
        "id": "-2MXOqr4rVWB",
        "outputId": "1a082b0c-0d3a-4454-f4a9-a4150c253cb3"
      },
      "execution_count": 89,
      "outputs": [
        {
          "output_type": "stream",
          "name": "stdout",
          "text": [
            "\n",
            "DataFrame guardado exitosamente en la capa Plata como: /content/plata/dimension_tienda_plata.parquet\n",
            "Puedes verificarlo en tu Google Drive en esa ruta.\n"
          ]
        }
      ]
    },
    {
      "cell_type": "code",
      "source": [
        "df_leido3 = pd.read_parquet('/content/plata/dimension_tienda_plata.parquet')\n",
        "\n",
        "print(f\"\\nDataFrame leído :\")\n",
        "print(df_leido3.head())"
      ],
      "metadata": {
        "colab": {
          "base_uri": "https://localhost:8080/"
        },
        "id": "A6qMrnypru6i",
        "outputId": "ee86fe7d-599d-4dfd-f4b1-c4f95affa93e"
      },
      "execution_count": 90,
      "outputs": [
        {
          "output_type": "stream",
          "name": "stdout",
          "text": [
            "\n",
            "DataFrame leído :\n",
            "   Tienda_ID                             Nombre_Tienda  \\\n",
            "0       2122                     Tienda 2122 - Cáceres   \n",
            "1       2883                   Tienda 2883 - Santander   \n",
            "2       2484  Tienda 2484 - Las Palmas de Gran Canaria   \n",
            "3       1461                      Tienda 1461 - Girona   \n",
            "4       1530                  Tienda 1530 - Pontevedra   \n",
            "\n",
            "                       Ciudad                Estado Region_Geografica  \\\n",
            "0                     Cáceres  Comunidad Valenciana           Levante   \n",
            "1                   Santander  Comunidad Valenciana           Levante   \n",
            "2  Las Palmas de Gran Canaria               Galicia          Noroeste   \n",
            "3                      Girona   Comunidad de Madrid            Centro   \n",
            "4                  Pontevedra  Comunidad Valenciana           Levante   \n",
            "\n",
            "              Tipo_Tienda Fecha_Apertura  \n",
            "0     Panadería Artesanal     2017-10-20  \n",
            "1         Boutique de Pan     2025-02-28  \n",
            "2                 Gourmet     2016-11-26  \n",
            "3  Tienda de Conveniencia     2016-12-06  \n",
            "4  Tienda de Conveniencia     2016-02-19  \n"
          ]
        }
      ]
    },
    {
      "cell_type": "markdown",
      "source": [
        "tabla de hechos Ventas"
      ],
      "metadata": {
        "id": "9-w0SpTysvkJ"
      }
    },
    {
      "cell_type": "code",
      "source": [
        "df_leido = pd.read_parquet('/content/bronze/bakery_sales_bronze.parquet')\n",
        "\n",
        "print(f\"\\nDataFrame leído de 'bakery_sales_bronze.parquet':\")\n",
        "\n",
        "\n",
        "print(df_leido.head())"
      ],
      "metadata": {
        "colab": {
          "base_uri": "https://localhost:8080/"
        },
        "id": "cSbUIo8CsACS",
        "outputId": "8ce2dd70-45cb-4da2-f38f-ccd817e4fe3b"
      },
      "execution_count": 91,
      "outputs": [
        {
          "output_type": "stream",
          "name": "stdout",
          "text": [
            "\n",
            "DataFrame leído de 'bakery_sales_bronze.parquet':\n",
            "   TransactionNo          Items             DateTime  Daypart  DayType  \\\n",
            "0              1          Bread  2016-10-30 09:58:11  Morning  Weekend   \n",
            "1              2   Scandinavian  2016-10-30 10:05:34  Morning  Weekend   \n",
            "2              2   Scandinavian  2016-10-30 10:05:34  Morning  Weekend   \n",
            "3              3  Hot chocolate  2016-10-30 10:07:57  Morning  Weekend   \n",
            "4              3            Jam  2016-10-30 10:07:57  Morning  Weekend   \n",
            "\n",
            "   ID_Tienda_Aleatoria  store_id                                store_name  \\\n",
            "0                 2122      2122                     Tienda 2122 - Cáceres   \n",
            "1                 2883      2883                   Tienda 2883 - Santander   \n",
            "2                 2484      2484  Tienda 2484 - Las Palmas de Gran Canaria   \n",
            "3                 1461      1461                      Tienda 1461 - Girona   \n",
            "4                 1530      1530                  Tienda 1530 - Pontevedra   \n",
            "\n",
            "                         city    region opening_date  Cantidad  \\\n",
            "0                     Cáceres   Levante   2017-10-20         1   \n",
            "1                   Santander   Levante   2025-02-28         1   \n",
            "2  Las Palmas de Gran Canaria  Noroeste   2016-11-26         4   \n",
            "3                      Girona    Centro   2016-12-06         4   \n",
            "4                  Pontevedra   Levante   2016-02-19         2   \n",
            "\n",
            "   Precio_Unitario  Total_Producto  \n",
            "0            13.05           13.05  \n",
            "1             1.02            1.02  \n",
            "2             4.01           16.04  \n",
            "3             6.23           24.92  \n",
            "4             3.15            6.30  \n"
          ]
        }
      ]
    },
    {
      "cell_type": "code",
      "source": [
        "# Seleccionar las columnas directamente relevantes para la tabla de hechos\n",
        "# Usaremos 'store_id' ya que parece ser la columna de ID de tienda en tu df_final\n",
        "fact_ventas = df_final[[\n",
        "    'TransactionNo', 'DateTime', 'Items', 'store_id', # <-- CAMBIO AQUÍ: Usamos 'store_id'\n",
        "    'Cantidad', 'Precio_Unitario', 'Total_Producto', 'Daypart', 'DayType'\n",
        "]].copy()\n",
        "\n",
        "print(\"  DataFrame base de FactVentas creado:\")\n",
        "print(fact_ventas.head())\n",
        "print(\"-\" * 80)\n",
        "\n",
        "# --- Continúa con la lógica de renombrar 'store_id' a 'Tienda_ID' más adelante ---\n",
        "# Puedes renombrarlo aquí si lo prefieres, o en el paso 5 como estaba antes.\n",
        "# Por ejemplo, justo después de crear fact_ventas:\n",
        "fact_ventas = fact_ventas.rename(columns={'store_id': 'Tienda_ID'})\n",
        "print(\"  'store_id' renombrado a 'Tienda_ID'.\")\n",
        "print(fact_ventas.head())\n",
        "print(\"-\" * 80)\n",
        "\n",
        "\n"
      ],
      "metadata": {
        "colab": {
          "base_uri": "https://localhost:8080/"
        },
        "id": "CNVhwTQotYe6",
        "outputId": "b27f3ec3-17b8-454a-e587-363624eb547b"
      },
      "execution_count": 92,
      "outputs": [
        {
          "output_type": "stream",
          "name": "stdout",
          "text": [
            "  DataFrame base de FactVentas creado:\n",
            "   TransactionNo            DateTime          Items  store_id  Cantidad  \\\n",
            "0              1 2016-10-30 09:58:11          Bread      2122         1   \n",
            "1              2 2016-10-30 10:05:34   Scandinavian      2883         1   \n",
            "2              2 2016-10-30 10:05:34   Scandinavian      2484         4   \n",
            "3              3 2016-10-30 10:07:57  Hot chocolate      1461         4   \n",
            "4              3 2016-10-30 10:07:57            Jam      1530         2   \n",
            "\n",
            "   Precio_Unitario  Total_Producto  Daypart  DayType  \n",
            "0            13.05           13.05  Morning  Weekend  \n",
            "1             1.02            1.02  Morning  Weekend  \n",
            "2             4.01           16.04  Morning  Weekend  \n",
            "3             6.23           24.92  Morning  Weekend  \n",
            "4             3.15            6.30  Morning  Weekend  \n",
            "--------------------------------------------------------------------------------\n",
            "  'store_id' renombrado a 'Tienda_ID'.\n",
            "   TransactionNo            DateTime          Items  Tienda_ID  Cantidad  \\\n",
            "0              1 2016-10-30 09:58:11          Bread       2122         1   \n",
            "1              2 2016-10-30 10:05:34   Scandinavian       2883         1   \n",
            "2              2 2016-10-30 10:05:34   Scandinavian       2484         4   \n",
            "3              3 2016-10-30 10:07:57  Hot chocolate       1461         4   \n",
            "4              3 2016-10-30 10:07:57            Jam       1530         2   \n",
            "\n",
            "   Precio_Unitario  Total_Producto  Daypart  DayType  \n",
            "0            13.05           13.05  Morning  Weekend  \n",
            "1             1.02            1.02  Morning  Weekend  \n",
            "2             4.01           16.04  Morning  Weekend  \n",
            "3             6.23           24.92  Morning  Weekend  \n",
            "4             3.15            6.30  Morning  Weekend  \n",
            "--------------------------------------------------------------------------------\n"
          ]
        }
      ]
    },
    {
      "cell_type": "code",
      "source": [
        "\n",
        "df_leido2 = pd.read_parquet('/content/plata/dimension_producto_plata.parquet')"
      ],
      "metadata": {
        "id": "y96bQdviuwNJ"
      },
      "execution_count": 93,
      "outputs": []
    },
    {
      "cell_type": "code",
      "source": [
        "dim_producto = df_leido2"
      ],
      "metadata": {
        "id": "gjmCtNyW3nap"
      },
      "execution_count": 94,
      "outputs": []
    },
    {
      "cell_type": "code",
      "source": [
        "try:\n",
        "    df_temp_producto = pd.read_parquet(dim_producto)\n",
        "    # Aquí, como has demostrado que df_temp_producto ya tiene las columnas correctas,\n",
        "    # la lógica 'elif 'Producto_ID' in df_temp_producto.columns...' se ejecutará\n",
        "    # y asignará df_temp_producto directamente a dim_producto.\n",
        "    if 'product_id' in df_temp_producto.columns and 'product_name' in df_temp_producto.columns:\n",
        "        dim_producto = df_temp_producto.rename(columns={\n",
        "            'product_id': 'Producto_ID',\n",
        "            'product_name': 'Nombre_Producto',\n",
        "            'category': 'Clasificacion_Producto',\n",
        "            'price': 'Precio_Base'\n",
        "        })\n",
        "    elif 'Producto_ID' in df_temp_producto.columns and 'Nombre_Producto' in df_temp_producto.columns: # Esta condición debería ser verdadera ahora\n",
        "        dim_producto = df_temp_producto\n",
        "    else:\n",
        "        # Esto solo se ejecutaría si hay un problema inesperado con las columnas\n",
        "        print(\"ADVERTENCIA: Columnas esperadas no encontradas. Creando dim_producto de demostración.\")\n",
        "        dim_producto = pd.DataFrame({\n",
        "            'Producto_ID': [1, 2],\n",
        "            'Nombre_Producto': ['Pan', 'Café'],\n",
        "            'Precio_Base_Producto': [2.5, 3.0]\n",
        "        })\n",
        "    print(f\"DimProducto cargada exitosamente. Filas: {len(dim_producto)}. Columnas: {dim_producto.columns.tolist()}\")\n",
        "except FileNotFoundError:\n",
        "    print(f\"ERROR: Archivo no encontrado en {dim_producto_path}. Creando dim_producto de demostración.\")\n",
        "    dim_producto = pd.DataFrame({\n",
        "        'Producto_ID': [1, 2],\n",
        "        'Nombre_Producto': ['Pan', 'Café'],\n",
        "        'Precio_Base_Producto': [2.5, 3.0]\n",
        "    })\n",
        "except Exception as e:\n",
        "    print(f\"ERROR inesperado al cargar DimProducto: {e}. Creando dim_producto de demostración.\")\n",
        "    dim_producto = pd.DataFrame({\n",
        "        'Producto_ID': [1, 2],\n",
        "        'Nombre_Producto': ['Pan', 'Café'],\n",
        "        'Precio_Base_Producto': [2.5, 3.0]\n",
        "    })"
      ],
      "metadata": {
        "colab": {
          "base_uri": "https://localhost:8080/"
        },
        "collapsed": true,
        "id": "ORHLqMbu5ahb",
        "outputId": "03bd6e8e-5219-4480-df8f-cac4af52b772"
      },
      "execution_count": 95,
      "outputs": [
        {
          "output_type": "stream",
          "name": "stdout",
          "text": [
            "ERROR inesperado al cargar DimProducto: cannot construct a FileSource from      ID_Producto       Nombre_Producto Clasificacion_Producto  Precio_Base\n",
            "0              1      Sopa de verduras                 Salado        30.56\n",
            "1              2        Huevo revuelto             Repostería        12.66\n",
            "2              3     Necessary Gen 173        Bebida Caliente        16.77\n",
            "3              4           Flan casero                 Salado         5.31\n",
            "4              5         Police Gen 88             Repostería        14.28\n",
            "..           ...                   ...                    ...          ...\n",
            "195          196        Café Americano       Bocadillo Salado        30.45\n",
            "196          197          Able Gen 141                 Postre        35.90\n",
            "197          198    Individual Gen 144                 Postre        43.87\n",
            "198          199              Buñuelos             Repostería        33.87\n",
            "199          200  Pan Dulce de Naranja           Pan de Molde         1.22\n",
            "\n",
            "[200 rows x 4 columns]. Creando dim_producto de demostración.\n"
          ]
        }
      ]
    },
    {
      "cell_type": "code",
      "source": [
        "if 'Producto_ID' not in dim_producto.columns or 'Nombre_Producto' not in dim_producto.columns:\n",
        "    print(\"ERROR: DimProducto cargada no contiene las columnas 'Producto_ID' o 'Nombre_Producto' esperadas.\")\n",
        "    print(f\"Columnas actuales de dim_producto: {dim_producto.columns.tolist()}\")\n",
        "    raise KeyError(\"Columnas faltantes en DimProducto. No se puede realizar el merge.\")"
      ],
      "metadata": {
        "id": "p_3lOoXWv-Jz"
      },
      "execution_count": 96,
      "outputs": []
    },
    {
      "cell_type": "code",
      "source": [
        "cols_to_select = ['TransactionNo', 'DateTime', 'Items', 'Cantidad', 'Precio_Unitario', 'Total_Producto', 'Daypart', 'DayType']\n",
        "store_id_col = None\n",
        "\n",
        "if 'store_id' in df_final.columns:\n",
        "    cols_to_select.append('store_id')\n",
        "    store_id_col = 'store_id'\n",
        "elif 'ID_Tienda_Aleatoria' in df_final.columns:\n",
        "    cols_to_select.append('ID_Tienda_Aleatoria')\n",
        "    store_id_col = 'ID_Tienda_Aleatoria'\n",
        "else:\n",
        "    raise KeyError(\"Ni 'store_id' ni 'ID_Tienda_Aleatoria' encontrados en df_final_bronze. No se puede crear FactVentas.\")\n",
        "\n",
        "fact_ventas = df_final[cols_to_select].copy()\n",
        "\n",
        "# Renombrar la columna de ID de tienda a 'Tienda_ID'\n",
        "if store_id_col:\n",
        "    fact_ventas = fact_ventas.rename(columns={store_id_col: 'Tienda_ID'})\n",
        "print(\"  Columna de ID de tienda renombrada a 'Tienda_ID'.\")\n",
        "\n",
        "print(\"  DataFrame base de FactVentas creado:\")\n",
        "print(fact_ventas.head())\n",
        "print(\"-\" * 80)\n"
      ],
      "metadata": {
        "colab": {
          "base_uri": "https://localhost:8080/"
        },
        "id": "KIESCfLD8J22",
        "outputId": "2b76575f-2ef9-4eee-d52d-650363daa91f"
      },
      "execution_count": 97,
      "outputs": [
        {
          "output_type": "stream",
          "name": "stdout",
          "text": [
            "  Columna de ID de tienda renombrada a 'Tienda_ID'.\n",
            "  DataFrame base de FactVentas creado:\n",
            "   TransactionNo            DateTime          Items  Cantidad  \\\n",
            "0              1 2016-10-30 09:58:11          Bread         1   \n",
            "1              2 2016-10-30 10:05:34   Scandinavian         1   \n",
            "2              2 2016-10-30 10:05:34   Scandinavian         4   \n",
            "3              3 2016-10-30 10:07:57  Hot chocolate         4   \n",
            "4              3 2016-10-30 10:07:57            Jam         2   \n",
            "\n",
            "   Precio_Unitario  Total_Producto  Daypart  DayType  Tienda_ID  \n",
            "0            13.05           13.05  Morning  Weekend       2122  \n",
            "1             1.02            1.02  Morning  Weekend       2883  \n",
            "2             4.01           16.04  Morning  Weekend       2484  \n",
            "3             6.23           24.92  Morning  Weekend       1461  \n",
            "4             3.15            6.30  Morning  Weekend       1530  \n",
            "--------------------------------------------------------------------------------\n"
          ]
        }
      ]
    },
    {
      "cell_type": "code",
      "source": [
        "# Extraer solo la parte de la fecha de 'DateTime' para la unión con DimFecha\n",
        "fact_ventas['Fecha_Completa_Solo_Fecha'] = fact_ventas['DateTime'].dt.normalize()\n",
        "\n",
        "fact_ventas = pd.merge(\n",
        "    fact_ventas,\n",
        "    dim_fecha[['Fecha_ID', 'Fecha_Completa']],\n",
        "    left_on='Fecha_Completa_Solo_Fecha',\n",
        "    right_on='Fecha_Completa',\n",
        "    how='left'\n",
        ")\n",
        "\n",
        "# Eliminar las columnas de unión temporales de fecha.\n",
        "# 'DateTime' se mantiene porque podría ser necesaria para otras uniones o en el final del Fact.\n",
        "fact_ventas = fact_ventas.drop(columns=['Fecha_Completa_Solo_Fecha', 'Fecha_Completa'])\n",
        "\n",
        "print(\"  'Fecha_ID' añadido a FactVentas.\")\n",
        "print(fact_ventas.head())\n",
        "print(\"-\" * 80)\n"
      ],
      "metadata": {
        "colab": {
          "base_uri": "https://localhost:8080/"
        },
        "id": "6WgB6IN38WOR",
        "outputId": "8e3e23ef-0826-433d-b6a9-e12563829063"
      },
      "execution_count": 98,
      "outputs": [
        {
          "output_type": "stream",
          "name": "stdout",
          "text": [
            "  'Fecha_ID' añadido a FactVentas.\n",
            "   TransactionNo            DateTime          Items  Cantidad  \\\n",
            "0              1 2016-10-30 09:58:11          Bread         1   \n",
            "1              2 2016-10-30 10:05:34   Scandinavian         1   \n",
            "2              2 2016-10-30 10:05:34   Scandinavian         4   \n",
            "3              3 2016-10-30 10:07:57  Hot chocolate         4   \n",
            "4              3 2016-10-30 10:07:57            Jam         2   \n",
            "\n",
            "   Precio_Unitario  Total_Producto  Daypart  DayType  Tienda_ID  Fecha_ID  \n",
            "0            13.05           13.05  Morning  Weekend       2122  20161030  \n",
            "1             1.02            1.02  Morning  Weekend       2883  20161030  \n",
            "2             4.01           16.04  Morning  Weekend       2484  20161030  \n",
            "3             6.23           24.92  Morning  Weekend       1461  20161030  \n",
            "4             3.15            6.30  Morning  Weekend       1530  20161030  \n",
            "--------------------------------------------------------------------------------\n"
          ]
        }
      ]
    },
    {
      "cell_type": "code",
      "source": [
        "print(\"4. Uniendo con DimProducto para obtener 'Producto_ID'...\")\n",
        "\n",
        "if 'Producto_ID' not in dim_producto.columns or 'Nombre_Producto' not in dim_producto.columns:\n",
        "    print(\"ERROR: DimProducto cargada no contiene las columnas 'Producto_ID' o 'Nombre_Producto' esperadas.\")\n",
        "    print(f\"Columnas actuales de dim_producto: {dim_producto.columns.tolist()}\")\n",
        "    raise KeyError(\"Columnas faltantes en DimProducto. No se puede realizar el merge.\")\n",
        "\n",
        "fact_ventas = pd.merge(\n",
        "    fact_ventas,\n",
        "    dim_producto[['Producto_ID', 'Nombre_Producto']],\n",
        "    left_on='Items',  # 'Items' debe estar aquí para que el merge funcione\n",
        "    right_on='Nombre_Producto',\n",
        "    how='left'\n",
        ")\n",
        "\n",
        "if fact_ventas['Producto_ID'].isnull().any():\n",
        "    print(\"¡Advertencia! Algunos ítems en FactVentas no se encontraron en DimProducto (Producto_ID es NaN).\")\n",
        "    fact_ventas['Producto_ID'].fillna(0, inplace=True)\n",
        "\n",
        "# 'Items' y 'Nombre_Producto' se eliminan *después* de que se han usado en el merge\n",
        "fact_ventas = fact_ventas.drop(columns=['Items', 'Nombre_Producto'])\n",
        "\n",
        "print(\"  'Producto_ID' añadido a FactVentas.\")\n",
        "print(fact_ventas.head())\n",
        "print(\"-\" * 80)"
      ],
      "metadata": {
        "colab": {
          "base_uri": "https://localhost:8080/"
        },
        "id": "vUZHzgse8hAk",
        "outputId": "021caa50-80e1-4e6f-8c8f-f1a6d2230e56"
      },
      "execution_count": 99,
      "outputs": [
        {
          "output_type": "stream",
          "name": "stdout",
          "text": [
            "4. Uniendo con DimProducto para obtener 'Producto_ID'...\n",
            "¡Advertencia! Algunos ítems en FactVentas no se encontraron en DimProducto (Producto_ID es NaN).\n",
            "  'Producto_ID' añadido a FactVentas.\n",
            "   TransactionNo            DateTime  Cantidad  Precio_Unitario  \\\n",
            "0              1 2016-10-30 09:58:11         1            13.05   \n",
            "1              2 2016-10-30 10:05:34         1             1.02   \n",
            "2              2 2016-10-30 10:05:34         4             4.01   \n",
            "3              3 2016-10-30 10:07:57         4             6.23   \n",
            "4              3 2016-10-30 10:07:57         2             3.15   \n",
            "\n",
            "   Total_Producto  Daypart  DayType  Tienda_ID  Fecha_ID  Producto_ID  \n",
            "0           13.05  Morning  Weekend       2122  20161030          0.0  \n",
            "1            1.02  Morning  Weekend       2883  20161030          0.0  \n",
            "2           16.04  Morning  Weekend       2484  20161030          0.0  \n",
            "3           24.92  Morning  Weekend       1461  20161030          0.0  \n",
            "4            6.30  Morning  Weekend       1530  20161030          0.0  \n",
            "--------------------------------------------------------------------------------\n"
          ]
        },
        {
          "output_type": "stream",
          "name": "stderr",
          "text": [
            "<ipython-input-99-fdac6ef385d8>:18: FutureWarning: A value is trying to be set on a copy of a DataFrame or Series through chained assignment using an inplace method.\n",
            "The behavior will change in pandas 3.0. This inplace method will never work because the intermediate object on which we are setting values always behaves as a copy.\n",
            "\n",
            "For example, when doing 'df[col].method(value, inplace=True)', try using 'df.method({col: value}, inplace=True)' or df[col] = df[col].method(value) instead, to perform the operation inplace on the original object.\n",
            "\n",
            "\n",
            "  fact_ventas['Producto_ID'].fillna(0, inplace=True)\n"
          ]
        }
      ]
    },
    {
      "cell_type": "code",
      "source": [
        "print(\"5. Procesando 'Tienda_ID' en FactVentas...\")\n",
        "# Este es el punto exacto donde la imagen_0e6b4c.png toma su captura.\n",
        "# La columna 'Tienda_ID' ya está presente en fact_ventas debido al renombramiento en la Parte 2.\n",
        "print(\"  'Tienda_ID' ya está presente en FactVentas y ha sido renombrada desde la fuente.\")\n",
        "print(fact_ventas.head()) # Este print genera la salida de la imagen_0e6b4c.png\n",
        "print(\"-\" * 80)"
      ],
      "metadata": {
        "colab": {
          "base_uri": "https://localhost:8080/"
        },
        "id": "A1mGVMEW6LRJ",
        "outputId": "26a95847-da26-4846-f20f-37a32e2555aa"
      },
      "execution_count": 100,
      "outputs": [
        {
          "output_type": "stream",
          "name": "stdout",
          "text": [
            "5. Procesando 'Tienda_ID' en FactVentas...\n",
            "  'Tienda_ID' ya está presente en FactVentas y ha sido renombrada desde la fuente.\n",
            "   TransactionNo            DateTime  Cantidad  Precio_Unitario  \\\n",
            "0              1 2016-10-30 09:58:11         1            13.05   \n",
            "1              2 2016-10-30 10:05:34         1             1.02   \n",
            "2              2 2016-10-30 10:05:34         4             4.01   \n",
            "3              3 2016-10-30 10:07:57         4             6.23   \n",
            "4              3 2016-10-30 10:07:57         2             3.15   \n",
            "\n",
            "   Total_Producto  Daypart  DayType  Tienda_ID  Fecha_ID  Producto_ID  \n",
            "0           13.05  Morning  Weekend       2122  20161030          0.0  \n",
            "1            1.02  Morning  Weekend       2883  20161030          0.0  \n",
            "2           16.04  Morning  Weekend       2484  20161030          0.0  \n",
            "3           24.92  Morning  Weekend       1461  20161030          0.0  \n",
            "4            6.30  Morning  Weekend       1530  20161030          0.0  \n",
            "--------------------------------------------------------------------------------\n"
          ]
        }
      ]
    },
    {
      "cell_type": "code",
      "source": [
        "print(\"6. Renombrando columnas de medidas y seleccionando columnas finales para FactVentas...\")\n",
        "\n",
        "# Renombrar las columnas de medidas para que sean más descriptivas y estándar para un DW\n",
        "fact_ventas = fact_ventas.rename(columns={\n",
        "    'TransactionNo': 'Id_Venta',            # Clave primaria de la tabla de hechos\n",
        "    'Cantidad': 'Cantidad_Vendida',\n",
        "    'Precio_Unitario': 'Precio_Unitario_Venta',\n",
        "    'Total_Producto': 'Total_Venta'\n",
        "})\n",
        "\n",
        "# Seleccionar y reordenar las columnas finales para la tabla de hechos.\n",
        "# Asegúrate de incluir todas las claves foráneas (ID's de dimensiones) y las medidas.\n",
        "# La columna 'DateTime' puede mantenerse si la necesitas para análisis a nivel de tiempo,\n",
        "# o eliminarse si solo te interesa 'Fecha_ID'.\n",
        "fact_ventas = fact_ventas[[\n",
        "    'Id_Venta',              # Clave primaria/identificador de la venta\n",
        "    'Fecha_ID',              # Clave foránea a DimFecha\n",
        "    'Producto_ID',           # Clave foránea a DimProducto\n",
        "    'Tienda_ID',             # Clave foránea a DimTienda\n",
        "    'Cantidad_Vendida',      # Medida: Cantidad de artículos vendidos\n",
        "    'Precio_Unitario_Venta', # Medida: Precio unitario en el momento de la venta\n",
        "    'Total_Venta',           # Medida: Total de la venta por ítem\n",
        "    'Daypart',               # Atributo descriptivo (ej. 'Morning', 'Afternoon')\n",
        "    'DayType'                # Atributo descriptivo (ej. 'Weekday', 'Weekend')\n",
        "    # Puedes incluir 'DateTime' aquí si quieres mantener el timestamp original:\n",
        "    # 'DateTime'\n",
        "]]"
      ],
      "metadata": {
        "colab": {
          "base_uri": "https://localhost:8080/"
        },
        "id": "XG0rMeBB6TVA",
        "outputId": "f0609f0b-b179-4d49-dca1-7aeee934005a"
      },
      "execution_count": 101,
      "outputs": [
        {
          "output_type": "stream",
          "name": "stdout",
          "text": [
            "6. Renombrando columnas de medidas y seleccionando columnas finales para FactVentas...\n"
          ]
        }
      ]
    },
    {
      "cell_type": "code",
      "source": [
        "print(\"  FactVentas final después de renombrar y seleccionar columnas:\")\n",
        "print(fact_ventas.head())"
      ],
      "metadata": {
        "colab": {
          "base_uri": "https://localhost:8080/"
        },
        "id": "MAiX6SNw6V2v",
        "outputId": "9ce235f3-4f8b-4843-db2d-8597ba94d982"
      },
      "execution_count": 102,
      "outputs": [
        {
          "output_type": "stream",
          "name": "stdout",
          "text": [
            "  FactVentas final después de renombrar y seleccionar columnas:\n",
            "   Id_Venta  Fecha_ID  Producto_ID  Tienda_ID  Cantidad_Vendida  \\\n",
            "0         1  20161030          0.0       2122                 1   \n",
            "1         2  20161030          0.0       2883                 1   \n",
            "2         2  20161030          0.0       2484                 4   \n",
            "3         3  20161030          0.0       1461                 4   \n",
            "4         3  20161030          0.0       1530                 2   \n",
            "\n",
            "   Precio_Unitario_Venta  Total_Venta  Daypart  DayType  \n",
            "0                  13.05        13.05  Morning  Weekend  \n",
            "1                   1.02         1.02  Morning  Weekend  \n",
            "2                   4.01        16.04  Morning  Weekend  \n",
            "3                   6.23        24.92  Morning  Weekend  \n",
            "4                   3.15         6.30  Morning  Weekend  \n"
          ]
        }
      ]
    },
    {
      "cell_type": "code",
      "source": [
        "print(f\"\\nNúmero total de registros en FactVentas: {len(fact_ventas)}\")\n",
        "print(f\"Información de FactVentas (dtypes finales):\")\n",
        "print(fact_ventas.info())\n",
        "print(\"-\" * 80)"
      ],
      "metadata": {
        "colab": {
          "base_uri": "https://localhost:8080/"
        },
        "id": "KDuFXaOh6bIZ",
        "outputId": "fb51071b-5b84-4ae6-dcdc-5ef5d92131f7"
      },
      "execution_count": 103,
      "outputs": [
        {
          "output_type": "stream",
          "name": "stdout",
          "text": [
            "\n",
            "Número total de registros en FactVentas: 20507\n",
            "Información de FactVentas (dtypes finales):\n",
            "<class 'pandas.core.frame.DataFrame'>\n",
            "RangeIndex: 20507 entries, 0 to 20506\n",
            "Data columns (total 9 columns):\n",
            " #   Column                 Non-Null Count  Dtype  \n",
            "---  ------                 --------------  -----  \n",
            " 0   Id_Venta               20507 non-null  int64  \n",
            " 1   Fecha_ID               20507 non-null  int64  \n",
            " 2   Producto_ID            20507 non-null  float64\n",
            " 3   Tienda_ID              20507 non-null  int64  \n",
            " 4   Cantidad_Vendida       20507 non-null  int64  \n",
            " 5   Precio_Unitario_Venta  20507 non-null  float64\n",
            " 6   Total_Venta            20507 non-null  float64\n",
            " 7   Daypart                20507 non-null  object \n",
            " 8   DayType                20507 non-null  object \n",
            "dtypes: float64(3), int64(4), object(2)\n",
            "memory usage: 1.4+ MB\n",
            "None\n",
            "--------------------------------------------------------------------------------\n"
          ]
        }
      ]
    },
    {
      "cell_type": "code",
      "source": [
        "\n",
        "# Define el nombre de tu archivo Parquet\n",
        "nombre_archivo4 = 'fact_ventas.parquet'\n",
        "full_path = os.path.join('/content/plata', nombre_archivo4)\n",
        "print(full_path)"
      ],
      "metadata": {
        "colab": {
          "base_uri": "https://localhost:8080/"
        },
        "id": "Jt7AFK9h6uDA",
        "outputId": "5fa6788e-c9fc-42c8-e25d-baa86e46b56a"
      },
      "execution_count": 104,
      "outputs": [
        {
          "output_type": "stream",
          "name": "stdout",
          "text": [
            "/content/plata/fact_ventas.parquet\n"
          ]
        }
      ]
    },
    {
      "cell_type": "code",
      "source": [
        "# Guarda el DataFrame en formato Parquet\n",
        "# index=False es importante para no guardar el índice del DataFrame como una columna\n",
        "fact_ventas.to_parquet(full_path, index=False)\n",
        "\n",
        "print(f\"\\nDataFrame guardado exitosamente en la capa Plata como: {full_path}\")\n",
        "print(\"Puedes verificarlo en tu Google Drive en esa ruta.\")\n"
      ],
      "metadata": {
        "colab": {
          "base_uri": "https://localhost:8080/"
        },
        "id": "Qx0PRgN26vc5",
        "outputId": "83f3d26d-e985-48c9-cefb-0504f60e0082"
      },
      "execution_count": 105,
      "outputs": [
        {
          "output_type": "stream",
          "name": "stdout",
          "text": [
            "\n",
            "DataFrame guardado exitosamente en la capa Plata como: /content/plata/fact_ventas.parquet\n",
            "Puedes verificarlo en tu Google Drive en esa ruta.\n"
          ]
        }
      ]
    },
    {
      "cell_type": "code",
      "source": [
        "df_leido4 = pd.read_parquet('/content/plata/fact_ventas.parquet')\n",
        "\n",
        "print(f\"\\nDataFrame leído :\")\n",
        "print(df_leido4.head())"
      ],
      "metadata": {
        "colab": {
          "base_uri": "https://localhost:8080/"
        },
        "id": "Z1bnaD9D9fLi",
        "outputId": "16ef0433-c353-4943-9578-afe58a1123ef"
      },
      "execution_count": 106,
      "outputs": [
        {
          "output_type": "stream",
          "name": "stdout",
          "text": [
            "\n",
            "DataFrame leído :\n",
            "   Id_Venta  Fecha_ID  Producto_ID  Tienda_ID  Cantidad_Vendida  \\\n",
            "0         1  20161030          0.0       2122                 1   \n",
            "1         2  20161030          0.0       2883                 1   \n",
            "2         2  20161030          0.0       2484                 4   \n",
            "3         3  20161030          0.0       1461                 4   \n",
            "4         3  20161030          0.0       1530                 2   \n",
            "\n",
            "   Precio_Unitario_Venta  Total_Venta  Daypart  DayType  \n",
            "0                  13.05        13.05  Morning  Weekend  \n",
            "1                   1.02         1.02  Morning  Weekend  \n",
            "2                   4.01        16.04  Morning  Weekend  \n",
            "3                   6.23        24.92  Morning  Weekend  \n",
            "4                   3.15         6.30  Morning  Weekend  \n"
          ]
        }
      ]
    },
    {
      "cell_type": "markdown",
      "source": [
        "\n",
        "##CAPA ORO"
      ],
      "metadata": {
        "id": "bFKjEhsTn5PS"
      }
    },
    {
      "cell_type": "code",
      "source": [
        "os.makedirs('oro', exist_ok=True)\n",
        "fake = Faker()"
      ],
      "metadata": {
        "collapsed": true,
        "id": "hcnZXdHj1a14"
      },
      "execution_count": 107,
      "outputs": []
    },
    {
      "cell_type": "code",
      "source": [
        "print(f\"Ruta de la capa Plata: {'/content/plata'}\")"
      ],
      "metadata": {
        "colab": {
          "base_uri": "https://localhost:8080/"
        },
        "id": "S0l-3znD-bGg",
        "outputId": "992157f5-f23a-4f91-8462-613632fee7e2"
      },
      "execution_count": 108,
      "outputs": [
        {
          "output_type": "stream",
          "name": "stdout",
          "text": [
            "Ruta de la capa Plata: /content/plata\n"
          ]
        }
      ]
    },
    {
      "cell_type": "code",
      "source": [
        "print(f\"Ruta de la capa Plata: {'/content/plata'}\")"
      ],
      "metadata": {
        "colab": {
          "base_uri": "https://localhost:8080/"
        },
        "id": "Qq7Y7ExJ_Wfn",
        "outputId": "e0e33caa-6c57-4bd4-9418-1d734df2cc4d"
      },
      "execution_count": 109,
      "outputs": [
        {
          "output_type": "stream",
          "name": "stdout",
          "text": [
            "Ruta de la capa Plata: /content/plata\n"
          ]
        }
      ]
    },
    {
      "cell_type": "code",
      "source": [
        "import pandas as pd\n",
        "import numpy as np # Asegúrate de que esto esté si usas numpy\n",
        "import os\n",
        "try:\n",
        "    # Esta ruta '/content/plata' parece ser una ruta temporal local en Colab,\n",
        "    # no tu capa Silver en Google Drive. Asegúrate de que el archivo\n",
        "    # 'fact_ventas.parquet' realmente se haya guardado en '/content/plata'\n",
        "    # en un paso anterior.\n",
        "    fact_ventas_path = os.path.join('/content/plata', 'fact_ventas.parquet')\n",
        "    fact_ventas = pd.read_parquet(fact_ventas_path)\n",
        "    print(f\"FactVentas cargada. Filas: {len(fact_ventas)}. Columnas: {fact_ventas.columns.tolist()}\")\n",
        "    # Convertir 'Producto_ID' a int si se había rellenado con 0.0 (float)\n",
        "    if 'Producto_ID' in fact_ventas.columns and fact_ventas['Producto_ID'].dtype == 'float64':\n",
        "        fact_ventas['Producto_ID'] = fact_ventas['Producto_ID'].astype(int)\n",
        "    print(fact_ventas.head())\n",
        "except FileNotFoundError:\n",
        "    print(f\"ERROR: No se encontró 'fact_ventas.parquet' en {fact_ventas_path}. No se pueden generar reportes.\")\n",
        "    exit() # Salir si la tabla de hechos principal no está disponible\n",
        "except Exception as e:\n",
        "    print(f\"ERROR al cargar fact_ventas: {e}\")\n",
        "    exit()\n"
      ],
      "metadata": {
        "colab": {
          "base_uri": "https://localhost:8080/"
        },
        "id": "2WzN5lzy_i8a",
        "outputId": "3f2fbe3b-57bb-4d2d-d031-64d91472b8d4"
      },
      "execution_count": 110,
      "outputs": [
        {
          "output_type": "stream",
          "name": "stdout",
          "text": [
            "FactVentas cargada. Filas: 20507. Columnas: ['Id_Venta', 'Fecha_ID', 'Producto_ID', 'Tienda_ID', 'Cantidad_Vendida', 'Precio_Unitario_Venta', 'Total_Venta', 'Daypart', 'DayType']\n",
            "   Id_Venta  Fecha_ID  Producto_ID  Tienda_ID  Cantidad_Vendida  \\\n",
            "0         1  20161030            0       2122                 1   \n",
            "1         2  20161030            0       2883                 1   \n",
            "2         2  20161030            0       2484                 4   \n",
            "3         3  20161030            0       1461                 4   \n",
            "4         3  20161030            0       1530                 2   \n",
            "\n",
            "   Precio_Unitario_Venta  Total_Venta  Daypart  DayType  \n",
            "0                  13.05        13.05  Morning  Weekend  \n",
            "1                   1.02         1.02  Morning  Weekend  \n",
            "2                   4.01        16.04  Morning  Weekend  \n",
            "3                   6.23        24.92  Morning  Weekend  \n",
            "4                   3.15         6.30  Morning  Weekend  \n"
          ]
        }
      ]
    },
    {
      "cell_type": "code",
      "source": [
        "# Cargar las tablas de dimensión necesarias\n",
        "try:\n",
        "    dim_fecha_path = os.path.join('/content/plata', 'dimension_fecha_plata.parquet')\n",
        "    dim_fecha = pd.read_parquet(dim_fecha_path)\n",
        "    dim_fecha['Fecha_Completa'] = pd.to_datetime(dim_fecha['Fecha_Completa'])\n",
        "    # Asegúrate de tener las columnas 'Año' y 'Mes_Nombre' para el reporte mensual\n",
        "    if 'Mes_Nombre' not in dim_fecha.columns:\n",
        "        dim_fecha['Mes_Nombre'] = dim_fecha['Fecha_Completa'].dt.strftime('%B')\n",
        "    if 'Año' not in dim_fecha.columns:\n",
        "        dim_fecha['Año'] = dim_fecha['Fecha_Completa'].dt.year\n",
        "    print(f\"DimFecha cargada. Filas: {len(dim_fecha)}. Columnas: {dim_fecha.columns.tolist()}\")\n",
        "except Exception as e:\n",
        "    print(f\"ADVERTENCIA: No se pudo cargar DimFecha ({e}). Algunos reportes pueden verse afectados.\")\n",
        "    dim_fecha = pd.DataFrame({'Fecha_ID': [], 'Fecha_Completa': [], 'Mes_Nombre': [], 'Año': []}) # DataFrame vacío\n"
      ],
      "metadata": {
        "colab": {
          "base_uri": "https://localhost:8080/"
        },
        "id": "Aogb8724BxHZ",
        "outputId": "cf7998c3-84e5-4a87-f2b0-0999e8e540bb"
      },
      "execution_count": 111,
      "outputs": [
        {
          "output_type": "stream",
          "name": "stdout",
          "text": [
            "DimFecha cargada. Filas: 694. Columnas: ['Fecha_ID', 'Fecha_Completa', 'Anio', 'Mes', 'Nombre_Mes', 'Dia', 'Dia_de_la_Semana', 'Nombre_Dia_Semana', 'Semana_del_Anio', 'Trimestre', 'Nombre_Trimestre', 'Es_Fin_De_Semana', 'Es_Dia_Laboral', 'Mes_Nombre', 'Año']\n"
          ]
        }
      ]
    },
    {
      "cell_type": "code",
      "source": [
        "\n",
        "try:\n",
        "    # La ruta real de tu archivo de dimensión producto (confirmada previamente como '/content/plata/dimension_producto_plata.parquet')\n",
        "    # O si la guardaste en tu silver_layer_path\n",
        "    dim_producto_path = os.path.join( '/content/plata'  , 'dimension_producto_plata.parquet')\n",
        "    # dim_producto_path = '/content/plata/dimension_producto_plata.parquet' # Usa esta si tu archivo está localmente en /content/plata/\n",
        "    df_temp_producto = pd.read_parquet(dim_producto_path)\n",
        "    # Renombrar columnas si es necesario al cargar\n",
        "    if 'product_id' in df_temp_producto.columns and 'product_name' in df_temp_producto.columns:\n",
        "        dim_producto = df_temp_producto.rename(columns={\n",
        "            'product_id': 'Producto_ID', 'product_name': 'Nombre_Producto',\n",
        "            'category': 'Clasificacion_Producto', 'price': 'Precio_Base'\n",
        "        })\n",
        "    elif 'Producto_ID' in df_temp_producto.columns and 'Nombre_Producto' in df_temp_producto.columns: # Caso esperado\n",
        "        dim_producto = df_temp_producto\n",
        "    else:\n",
        "        print(\"ADVERTENCIA: Columnas esperadas de DimProducto no encontradas en el archivo cargado. Usando un DataFrame vacío.\")\n",
        "        dim_producto = pd.DataFrame({'Producto_ID': [], 'Nombre_Producto': [], 'Clasificacion_Producto': [], 'Precio_Base': []})\n",
        "    print(f\"DimProducto cargada. Filas: {len(dim_producto)}. Columnas: {dim_producto.columns.tolist()}\")\n",
        "except Exception as e:\n",
        "    print(f\"ADVERTENCIA: No se pudo cargar DimProducto ({e}). Algunos reportes pueden verse afectados.\")\n",
        "    dim_producto = pd.DataFrame({'Producto_ID': [], 'Nombre_Producto': [], 'Clasificacion_Producto': [], 'Precio_Base': []}) # DataFrame vacío\n"
      ],
      "metadata": {
        "colab": {
          "base_uri": "https://localhost:8080/"
        },
        "id": "ZOf7cc0SCRJy",
        "outputId": "069ed220-d16a-433f-ed09-c7638442f77d"
      },
      "execution_count": 112,
      "outputs": [
        {
          "output_type": "stream",
          "name": "stdout",
          "text": [
            "ADVERTENCIA: Columnas esperadas de DimProducto no encontradas en el archivo cargado. Usando un DataFrame vacío.\n",
            "DimProducto cargada. Filas: 0. Columnas: ['Producto_ID', 'Nombre_Producto', 'Clasificacion_Producto', 'Precio_Base']\n"
          ]
        }
      ]
    },
    {
      "cell_type": "code",
      "source": [
        "try:\n",
        "    dim_tienda_path = os.path.join(plata, 'dim_tienda.parquet')\n",
        "    dim_tienda = pd.read_parquet(dim_tienda_path)\n",
        "    print(f\"DimTienda cargada. Filas: {len(dim_tienda)}. Columnas: {dim_tienda.columns.tolist()}\")\n",
        "except Exception as e:\n",
        "    print(f\"ADVERTENCIA: No se pudo cargar DimTienda ({e}). Algunos reportes pueden verse afectados.\")\n",
        "    dim_tienda = pd.DataFrame({'Tienda_ID': [], 'Nombre_Tienda': [], 'city': []}) # DataFrame vacío, incluir 'city'\n",
        "print(\"-\" * 80)"
      ],
      "metadata": {
        "colab": {
          "base_uri": "https://localhost:8080/"
        },
        "id": "48HUBsx_GbeT",
        "outputId": "d96694fa-8b5a-4a5c-abf6-64c95fce31c9"
      },
      "execution_count": 116,
      "outputs": [
        {
          "output_type": "stream",
          "name": "stdout",
          "text": [
            "ADVERTENCIA: No se pudo cargar DimTienda (name 'plata' is not defined). Algunos reportes pueden verse afectados.\n",
            "--------------------------------------------------------------------------------\n"
          ]
        }
      ]
    },
    {
      "cell_type": "code",
      "source": [
        "# --- 1. Reporte: Total de ventas por mes ---\n",
        "print(\"1. Generando reporte 'Total de ventas por mes'...\")\n",
        "reporte_ventas_mes = fact_ventas.merge(\n",
        "    dim_fecha[['Fecha_ID', 'Año', 'Mes_Nombre']], # Usamos 'Año' y 'Mes_Nombre' de dim_fecha\n",
        "    on='Fecha_ID',\n",
        "    how='left'\n",
        ")\n",
        "reporte_ventas_mes_agg = reporte_ventas_mes.groupby(['Año', 'Mes_Nombre'])['Total_Venta'].sum().reset_index()"
      ],
      "metadata": {
        "id": "8oRr-BG_GobK",
        "colab": {
          "base_uri": "https://localhost:8080/"
        },
        "outputId": "707e91a3-bdaf-4b60-f473-4a3c8cdcf185"
      },
      "execution_count": 114,
      "outputs": [
        {
          "output_type": "stream",
          "name": "stdout",
          "text": [
            "1. Generando reporte 'Total de ventas por mes'...\n"
          ]
        }
      ]
    },
    {
      "cell_type": "code",
      "source": [
        "# Opcional: Ordenar por año y un mes numérico si existe en dim_fecha\n",
        "reporte_ventas_mes_agg = reporte_ventas_mes_agg.sort_values(by=['Año', 'Mes_Nombre']) # Puede requerir un mapeo de Mes_Nombre a numérico para ordenar correctamente\n",
        "print(\"Reporte 'Total de ventas por mes':\")\n",
        "print(reporte_ventas_mes_agg.head())\n",
        "reporte_ventas_mes_agg.to_parquet(os.path.join('/content/oro', 'reporte_ventas_mes.parquet'), index=False)\n",
        "print(f\"Reporte guardado en: {os.path.join('/content/oro', 'reporte_ventas_por_mes.parquet')}\")\n",
        "print(\"-\" * 80)"
      ],
      "metadata": {
        "id": "14_q9EA8G2v7",
        "colab": {
          "base_uri": "https://localhost:8080/"
        },
        "outputId": "b6b7485c-50e0-4da7-aa09-63958b6eb209"
      },
      "execution_count": 119,
      "outputs": [
        {
          "output_type": "stream",
          "name": "stdout",
          "text": [
            "Reporte 'Total de ventas por mes':\n",
            "    Año Mes_Nombre  Total_Venta\n",
            "0  2016      April     11895.87\n",
            "1  2016     August      8392.35\n",
            "2  2016   December     90137.79\n",
            "3  2016   February     10825.89\n",
            "4  2016    January      9372.45\n",
            "Reporte guardado en: /content/oro/reporte_ventas_por_mes.parquet\n",
            "--------------------------------------------------------------------------------\n"
          ]
        }
      ]
    },
    {
      "cell_type": "code",
      "source": [
        "# --- 2. Reporte: Ventas por ciudad ---\n",
        "print(\"2. Generando reporte 'Ventas por ciudad'...\")\n",
        "# Necesitamos la columna 'city' de dim_tienda.\n",
        "# df_final_bronze tenía 'city', así que asumo que dim_tienda también la tiene.\n",
        "if 'city' not in dim_tienda.columns:\n",
        "    print(\"ADVERTENCIA: La columna 'city' no se encontró en DimTienda. Generando datos de ciudad de ejemplo.\")\n",
        "    # Si 'city' no está en dim_tienda, la simulamos aquí\n",
        "    # Esto es una suposición para evitar que el código falle, pero lo ideal es que 'city' esté en tu dim_tienda\n",
        "    dim_tienda_temp = dim_tienda.copy()\n",
        "    num_unique_cities = 5\n",
        "    fake = Faker('es_ES')\n",
        "    cities = [fake.city() for _ in range(num_unique_cities)]\n",
        "    dim_tienda_temp['city'] = np.random.choice(cities, size=len(dim_tienda_temp))\n",
        "else:\n",
        "    dim_tienda_temp = dim_tienda.copy() # Usar la dim_tienda real si 'city' existe\n",
        "\n",
        "reporte_ventas_ciudad = fact_ventas.merge(\n",
        "    dim_tienda_temp[['Tienda_ID', 'city']],\n",
        "    on='Tienda_ID',\n",
        "    how='left'\n",
        ")\n",
        "reporte_ventas_ciudad_agg = reporte_ventas_ciudad.groupby('city')['Total_Venta'].sum().reset_index()\n",
        "reporte_ventas_ciudad_agg = reporte_ventas_ciudad_agg.sort_values(by='Total_Venta', ascending=False)"
      ],
      "metadata": {
        "id": "jGX6dWK0G4nB",
        "colab": {
          "base_uri": "https://localhost:8080/"
        },
        "outputId": "e1091516-ba78-4ed6-bdec-140b903206ab"
      },
      "execution_count": 120,
      "outputs": [
        {
          "output_type": "stream",
          "name": "stdout",
          "text": [
            "2. Generando reporte 'Ventas por ciudad'...\n"
          ]
        }
      ]
    },
    {
      "cell_type": "code",
      "source": [
        "print(\"Reporte 'Ventas por ciudad':\")\n",
        "print(reporte_ventas_ciudad_agg.head())\n",
        "reporte_ventas_ciudad_agg.to_parquet(os.path.join('/content/oro', 'reporte_ventas_por_ciudad.parquet'), index=False)\n",
        "print(f\"Reporte guardado en: {os.path.join('/content/oro', 'reporte_ventas_por_ciudad.parquet')}\")\n",
        "print(\"-\" * 80)\n"
      ],
      "metadata": {
        "id": "VEGGLmtmHBYi",
        "colab": {
          "base_uri": "https://localhost:8080/"
        },
        "outputId": "a0c9980f-d886-4526-a4d7-59c0d02fc0d6"
      },
      "execution_count": 121,
      "outputs": [
        {
          "output_type": "stream",
          "name": "stdout",
          "text": [
            "Reporte 'Ventas por ciudad':\n",
            "Empty DataFrame\n",
            "Columns: [city, Total_Venta]\n",
            "Index: []\n",
            "Reporte guardado en: /content/oro/reporte_ventas_por_ciudad.parquet\n",
            "--------------------------------------------------------------------------------\n"
          ]
        }
      ]
    },
    {
      "cell_type": "code",
      "source": [
        "# --- 3. Reporte: Productos más vendidos (Top 10) ---\n",
        "print(\"3. Generando reporte 'Productos más vendidos (Top 10)'...\")\n",
        "reporte_productos_mas_vendidos = fact_ventas.merge(\n",
        "    dim_producto[['Producto_ID', 'Nombre_Producto']],\n",
        "    on='Producto_ID',\n",
        "    how='left'\n",
        ")\n",
        "reporte_productos_mas_vendidos_agg = reporte_productos_mas_vendidos.groupby('Nombre_Producto')['Cantidad_Vendida'].sum().reset_index()\n",
        "reporte_productos_mas_vendidos_agg = reporte_productos_mas_vendidos_agg.sort_values(by='Cantidad_Vendida', ascending=False).head(10)"
      ],
      "metadata": {
        "id": "haQ9njJXHHTK",
        "colab": {
          "base_uri": "https://localhost:8080/"
        },
        "outputId": "3f487c1c-5be8-4d08-8f44-7dcff940bf94"
      },
      "execution_count": 122,
      "outputs": [
        {
          "output_type": "stream",
          "name": "stdout",
          "text": [
            "3. Generando reporte 'Productos más vendidos (Top 10)'...\n"
          ]
        }
      ]
    },
    {
      "cell_type": "code",
      "source": [
        "print(\"Reporte 'Productos más vendidos (Top 10)':\")\n",
        "print(reporte_productos_mas_vendidos_agg)\n",
        "reporte_productos_mas_vendidos_agg.to_parquet(os.path.join('/content/oro', 'reporte_top_10_productos.parquet'), index=False)\n",
        "print(f\"Reporte guardado en: {os.path.join('/content/oro', 'reporte_top_10_productos.parquet')}\")\n",
        "print(\"-\" * 80)"
      ],
      "metadata": {
        "id": "Fwl8z2ncHM-M",
        "colab": {
          "base_uri": "https://localhost:8080/"
        },
        "outputId": "d970ffb9-f915-4cb1-b2b3-f75dd180eafc"
      },
      "execution_count": 123,
      "outputs": [
        {
          "output_type": "stream",
          "name": "stdout",
          "text": [
            "Reporte 'Productos más vendidos (Top 10)':\n",
            "Empty DataFrame\n",
            "Columns: [Nombre_Producto, Cantidad_Vendida]\n",
            "Index: []\n",
            "Reporte guardado en: /content/oro/reporte_top_10_productos.parquet\n",
            "--------------------------------------------------------------------------------\n"
          ]
        }
      ]
    },
    {
      "cell_type": "code",
      "source": [
        "# --- 4. Reporte: Tiendas que más venden (Top 10) ---\n",
        "print(\"4. Generando reporte 'Tiendas que más venden (Top 10)'...\")\n",
        "reporte_tiendas_mas_vendedoras = fact_ventas.merge(\n",
        "    dim_tienda[['Tienda_ID', 'Nombre_Tienda']],\n",
        "    on='Tienda_ID',\n",
        "    how='left'\n",
        ")\n",
        "reporte_tiendas_mas_vendedoras_agg = reporte_tiendas_mas_vendedoras.groupby('Nombre_Tienda')['Total_Venta'].sum().reset_index()\n",
        "reporte_tiendas_mas_vendedoras_agg = reporte_tiendas_mas_vendedoras_agg.sort_values(by='Total_Venta', ascending=False).head(10)"
      ],
      "metadata": {
        "id": "9x5HDKWDHQ6T",
        "colab": {
          "base_uri": "https://localhost:8080/"
        },
        "outputId": "27d2eaf1-a43c-40bd-8ad9-7f21eefa0ddd"
      },
      "execution_count": 124,
      "outputs": [
        {
          "output_type": "stream",
          "name": "stdout",
          "text": [
            "4. Generando reporte 'Tiendas que más venden (Top 10)'...\n"
          ]
        }
      ]
    },
    {
      "cell_type": "code",
      "source": [
        "print(\"Reporte 'Tiendas que más venden (Top 10)':\")\n",
        "print(reporte_tiendas_mas_vendedoras_agg)\n",
        "reporte_tiendas_mas_vendedoras_agg.to_parquet(os.path.join('/content/oro', 'reporte_top_10_tiendas.parquet'), index=False)\n",
        "print(f\"Reporte guardado en: {os.path.join('/content/oro', 'reporte_top_10_tiendas.parquet')}\")\n",
        "print(\"-\" * 80)\n"
      ],
      "metadata": {
        "colab": {
          "base_uri": "https://localhost:8080/"
        },
        "id": "M6YG2qBJHXuT",
        "outputId": "3d85e70b-9143-4929-c7c9-37f13a1c8580"
      },
      "execution_count": 125,
      "outputs": [
        {
          "output_type": "stream",
          "name": "stdout",
          "text": [
            "Reporte 'Tiendas que más venden (Top 10)':\n",
            "Empty DataFrame\n",
            "Columns: [Nombre_Tienda, Total_Venta]\n",
            "Index: []\n",
            "Reporte guardado en: /content/oro/reporte_top_10_tiendas.parquet\n",
            "--------------------------------------------------------------------------------\n"
          ]
        }
      ]
    }
  ]
}